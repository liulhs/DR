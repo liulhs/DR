{
 "cells": [
  {
   "cell_type": "code",
   "execution_count": 1,
   "metadata": {},
   "outputs": [
    {
     "name": "stderr",
     "output_type": "stream",
     "text": [
      "/home/jason/anaconda3/envs/coursistant/lib/python3.12/site-packages/tqdm/auto.py:21: TqdmWarning: IProgress not found. Please update jupyter and ipywidgets. See https://ipywidgets.readthedocs.io/en/stable/user_install.html\n",
      "  from .autonotebook import tqdm as notebook_tqdm\n"
     ]
    }
   ],
   "source": [
    "from PIL import Image\n",
    "import io\n",
    "import base64\n",
    "from typing import Any, Dict, List, Optional\n",
    "from llama_index.core import StorageContext, load_index_from_storage\n",
    "from llama_index.core.query_pipeline import QueryPipeline, InputComponent, ArgPackComponent\n",
    "from llama_index.core.prompts import PromptTemplate\n",
    "from llama_index.llms.openai import OpenAI\n",
    "from llama_index.postprocessor.colbert_rerank import ColbertRerank\n",
    "from llama_index.core.llms import ChatMessage\n",
    "from llama_index.core.memory import ChatMemoryBuffer\n",
    "from llama_index.core.query_pipeline import CustomQueryComponent\n",
    "from llama_index.core.schema import NodeWithScore\n",
    "from pydantic import BaseModel\n",
    "from llama_index.core.bridge.pydantic import Field\n",
    "from llama_index.core.output_parsers import PydanticOutputParser"
   ]
  },
  {
   "cell_type": "code",
   "execution_count": 2,
   "metadata": {},
   "outputs": [],
   "source": [
    "from typing import Dict, Any\n",
    "\n",
    "class AnswerFormat(BaseModel):\n",
    "    \"\"\"Object representing a single knowledge pdf file.\"\"\"\n",
    "    answer: str = \"None\"\n",
    "    \n",
    "    @classmethod\n",
    "    def schema(cls, by_alias: bool = True) -> Dict[str, Any]:\n",
    "        schema = super().model_json_schema(by_alias)\n",
    "        properties = schema.get(\"properties\", {})\n",
    "\n",
    "        # Manually adding descriptions\n",
    "        properties[\"answer\"][\"description\"] = \"Your Answer to the given query\"\n",
    "\n",
    "        return schema"
   ]
  },
  {
   "cell_type": "code",
   "execution_count": 3,
   "metadata": {},
   "outputs": [],
   "source": [
    "storage_context = StorageContext.from_defaults(persist_dir=\"./index/piazza\")\n",
    "index = load_index_from_storage(storage_context)"
   ]
  },
  {
   "cell_type": "code",
   "execution_count": 38,
   "metadata": {},
   "outputs": [],
   "source": [
    "from llama_index.core.output_parsers import PydanticOutputParser\n",
    "\n",
    "input_component = InputComponent()\n",
    "output_parser = PydanticOutputParser(AnswerFormat)\n",
    "prompt_str = \"\"\"\\\n",
    "You are given a context with all piazza posts and answers of a certain course.\n",
    "Answer the following questions: {query_str}\n",
    "\"\"\"\n",
    "json_prompt_str = output_parser.format(prompt_str)\n",
    "llm = OpenAI(\n",
    "    model=\"gpt-4o\",\n",
    "    temperature=0.2,\n",
    ")\n",
    "retriever = index.as_retriever(similarity_top_k=10)\n",
    "reranker = ColbertRerank(top_n=3, keep_retrieval_score=True)\n",
    "DEFAULT_CONTEXT_PROMPT = json_prompt_str + (\n",
    "    \"Here is some context that may be relevant:\\n\"\n",
    "    \"-----\\n\"\n",
    "    \"{node_context}\\n\"\n",
    "    \"-----\\n\"\n",
    ")\n",
    "output_parser = PydanticOutputParser(AnswerFormat)\n"
   ]
  },
  {
   "cell_type": "code",
   "execution_count": 5,
   "metadata": {},
   "outputs": [
    {
     "name": "stdout",
     "output_type": "stream",
     "text": [
      "You are given a context with all piazza posts and answers of a certain course.\n",
      "Answer the following questions: {query_str}\n",
      "\n",
      "\n",
      "\n",
      "Here's a JSON schema to follow:\n",
      "{{\"description\": \"Object representing a single knowledge pdf file.\", \"properties\": {{\"answer\": {{\"default\": \"None\", \"title\": \"Answer\", \"type\": \"string\", \"description\": \"Your Answer to the given query\"}}}}, \"title\": \"AnswerFormat\", \"type\": \"object\"}}\n",
      "\n",
      "Output a valid JSON object but do not repeat the schema.\n",
      "\n"
     ]
    }
   ],
   "source": [
    "print(json_prompt_str)"
   ]
  },
  {
   "cell_type": "code",
   "execution_count": 6,
   "metadata": {},
   "outputs": [
    {
     "name": "stdout",
     "output_type": "stream",
     "text": [
      "You are given a context with all piazza posts and answers of a certain course.\n",
      "Answer the following questions: {query_str}\n",
      "\n",
      "\n",
      "\n",
      "Here's a JSON schema to follow:\n",
      "{{\"description\": \"Object representing a single knowledge pdf file.\", \"properties\": {{\"answer\": {{\"default\": \"None\", \"title\": \"Answer\", \"type\": \"string\", \"description\": \"Your Answer to the given query\"}}}}, \"title\": \"AnswerFormat\", \"type\": \"object\"}}\n",
      "\n",
      "Output a valid JSON object but do not repeat the schema.\n",
      "Here is some context that may be relevant:\n",
      "-----\n",
      "{node_context}\n",
      "-----\n",
      "\n"
     ]
    }
   ],
   "source": [
    "print(DEFAULT_CONTEXT_PROMPT)"
   ]
  },
  {
   "cell_type": "code",
   "execution_count": 48,
   "metadata": {},
   "outputs": [],
   "source": [
    "class Response(CustomQueryComponent):\n",
    "    llm: OpenAI = Field(..., description=\"OpenAI LLM\")\n",
    "    system_prompt: Optional[str] = Field(\n",
    "        default=None, description=\"System prompt to use for the LLM\"\n",
    "    )\n",
    "    context_prompt: str = Field(\n",
    "        default=DEFAULT_CONTEXT_PROMPT,\n",
    "        description=\"Context prompt to use for the LLM\",\n",
    "    )\n",
    "\n",
    "    def _validate_component_inputs(\n",
    "        self, input: Dict[str, Any]\n",
    "    ) -> Dict[str, Any]:\n",
    "        return input\n",
    "\n",
    "    @property\n",
    "    def _input_keys(self) -> set:\n",
    "        # Removed \"chat_history\" from the input keys\n",
    "        return {\"nodes\", \"query_str\"}\n",
    "\n",
    "    @property\n",
    "    def _output_keys(self) -> set:\n",
    "        return {\"response\"}\n",
    "\n",
    "    def _prepare_context(\n",
    "        self,\n",
    "        # Removed chat_history parameter\n",
    "        nodes: List[NodeWithScore],\n",
    "        query_str: str,\n",
    "    ) -> List[ChatMessage]:\n",
    "        node_context = \"\"\n",
    "        for idx, node in enumerate(nodes):\n",
    "            print(node.metadata)\n",
    "            print(node.text)\n",
    "            node_text = node.get_content(metadata_mode=\"llm\")\n",
    "            node_context += f\"Context Chunk {idx}:\\n{node_text}\\n\\n\"\n",
    "\n",
    "        formatted_context = self.context_prompt.format(\n",
    "            node_context=node_context, query_str=query_str\n",
    "        )\n",
    "        user_message = ChatMessage(role=\"user\", content=formatted_context)\n",
    "\n",
    "        # print(formatted_context)\n",
    "\n",
    "        # Removed appending to chat_history\n",
    "        context = [user_message]\n",
    "\n",
    "        if self.system_prompt is not None:\n",
    "            # Adjusted to use context instead of chat_history\n",
    "            context = [\n",
    "                ChatMessage(role=\"system\", content=self.system_prompt)\n",
    "            ] + context\n",
    "\n",
    "        return context\n",
    "\n",
    "    def _run_component(self, **kwargs) -> Dict[str, Any]:\n",
    "        # Removed chat_history from kwargs\n",
    "        nodes = kwargs[\"nodes\"]\n",
    "        query_str = kwargs[\"query_str\"]\n",
    "\n",
    "        prepared_context = self._prepare_context(\n",
    "            # Adjusted call to _prepare_context\n",
    "            nodes, query_str\n",
    "        )\n",
    "        print(prepared_context)\n",
    "        response = self.llm.chat(prepared_context)\n",
    "        return {\"response\": response}\n",
    "\n",
    "    async def _arun_component(self, **kwargs: Any) -> Dict[str, Any]:\n",
    "        # Removed chat_history from kwargs\n",
    "        nodes = kwargs[\"nodes\"]\n",
    "        query_str = kwargs[\"query_str\"]\n",
    "\n",
    "        prepared_context = self._prepare_context(\n",
    "            # Adjusted call to _prepare_context\n",
    "            nodes, query_str\n",
    "        )\n",
    "\n",
    "        response = await self.llm.achat(prepared_context)\n",
    "\n",
    "        return {\"response\": response}\n"
   ]
  },
  {
   "cell_type": "code",
   "execution_count": 49,
   "metadata": {},
   "outputs": [],
   "source": [
    "response_component = Response(\n",
    "    llm=llm,\n",
    "    system_prompt=(\n",
    "        \"You are a Virtual Teaching Assistant. Answer questions in the style of a human TA.\"\n",
    "        \"If you can find the answer in the context, don't modify too much, if you are able to find multiple answers, structure them and summerize them.\"\n",
    "    )\n",
    ")"
   ]
  },
  {
   "cell_type": "code",
   "execution_count": 10,
   "metadata": {},
   "outputs": [],
   "source": [
    "import pandas as pd\n",
    "\n",
    "def pretty_print(df):\n",
    "    return display(HTML(df.to_html().replace(\"\\\\n\", \"<br>\")))\n",
    "\n",
    "def visualize_retrieved_nodes(nodes) -> None:\n",
    "    result_dicts = []\n",
    "    for node in nodes:\n",
    "        result_dict = {\"Score\": node.score, \"Text\": node.node.get_text()}\n",
    "        result_dicts.append(result_dict)\n",
    "\n",
    "    pretty_print(pd.DataFrame(result_dicts))"
   ]
  },
  {
   "cell_type": "code",
   "execution_count": 50,
   "metadata": {},
   "outputs": [],
   "source": [
    "pipeline = QueryPipeline(\n",
    "    modules={\n",
    "        \"input\": input_component,\n",
    "        \"query_retriever\": retriever,\n",
    "        \"reranker\": reranker,\n",
    "        \"response_component\": response_component\n",
    "        # \"output_parser\": output_parser\n",
    "    },\n",
    "    verbose=True,\n",
    ")\n",
    "\n",
    "pipeline.add_link(\"input\", \"query_retriever\", src_key=\"query_str\")\n",
    "pipeline.add_link(\"query_retriever\", \"reranker\", dest_key=\"nodes\")\n",
    "pipeline.add_link(\n",
    "    \"input\", \"reranker\", src_key=\"query_str\", dest_key=\"query_str\"\n",
    ")\n",
    "pipeline.add_link(\"reranker\", \"response_component\", dest_key=\"nodes\")\n",
    "pipeline.add_link(\"input\", \"response_component\", dest_key=\"query_str\")\n",
    "# pipeline.add_link(\"response_component\", \"output_parser\")"
   ]
  },
  {
   "cell_type": "code",
   "execution_count": 51,
   "metadata": {},
   "outputs": [
    {
     "name": "stdout",
     "output_type": "stream",
     "text": [
      "\u001b[1;3;38;2;155;135;227m> Running module input with input: \n",
      "query_str: Connectivity issues with instances deployed on AWS\n",
      "\n",
      "\u001b[0m\u001b[1;3;38;2;155;135;227m> Running module query_retriever with input: \n",
      "input: Connectivity issues with instances deployed on AWS\n",
      "\n",
      "\u001b[0m\u001b[1;3;38;2;155;135;227m> Running module reranker with input: \n",
      "query_str: Connectivity issues with instances deployed on AWS\n",
      "nodes: [NodeWithScore(node=TextNode(id_='50df09cc-eede-450b-b142-38a400b85359', embedding=None, metadata={'filename': '/home/jason/coursistant/DR/txt/announcement.txt'}, excluded_embed_metadata_keys=[], excl...\n",
      "\n",
      "\u001b[0m\u001b[1;3;38;2;155;135;227m> Running module response_component with input: \n",
      "query_str: Connectivity issues with instances deployed on AWS\n",
      "nodes: [NodeWithScore(node=TextNode(id_='50df09cc-eede-450b-b142-38a400b85359', embedding=None, metadata={'filename': '/home/jason/coursistant/DR/txt/announcement.txt', 'retrieval_score': 0.8286686360507944}...\n",
      "\n",
      "\u001b[0m{'filename': '/home/jason/coursistant/DR/txt/announcement.txt', 'retrieval_score': 0.8286686360507944}\n",
      "Announcement: Monday (12/04): 3:00 pm - 5:00 pm (Science and Engineering Library Room 209)\n",
      "\n",
      "Wednesday (12/06): 8:00 pm - 10:00 pm (Science and Engineering Library Room 209) (Final OHs)\n",
      "\n",
      "\n",
      "Announcement: Dear all,\n",
      "\n",
      "It appears that many of you are experiencing connectivity issues with instances deployed on AWS. As you may have already guessed, any misconfiguration within the series of complex settings from the creation of your remote instances to the ssh can lead to connection failures. Here are some potential reasons I've identified, including issues that previous students encountered during my office hours, which I hope will assist you:\n",
      "\n",
      "*   Ensure that you are using Ubuntu 20 and the VyOS rolling version (I used rolling 1.3, but version 1.3.3 should work as well).\n",
      "    \n",
      "*   Verify that your VPC's route tables are set to \"main\" and the target is set to \"any (0.0.0.0/0)\"\n",
      "    \n",
      "*   Check if your security rules allow TCP requests from any network.\n",
      "    \n",
      "*   Review the network (subnet) topology to ensure that each instance is configured correctly.\n",
      "    \n",
      "*   Confirm whether the Elastic IP is correctly associated with the intended interface.\n",
      "    \n",
      "*   Double-check your SSH key and the connection method (use the connection command copied from the \"Connect\" page on the website).\n",
      "    \n",
      "*   **If you suspect that you cannot connect to the remote host due to issues with the remote operating system, there's a way to confirm your suspicion. Instead of using an Elastic IP, assign a public IP directly to a specific port when creating the EC2 instance, and then check if you can SSH/ping into it. If you can, it suggests that the issue is not related to the system.**\n",
      "    \n",
      "*   **If you cannot SSH into the software router using a public IP, you can try connecting to the software router (10.0.2.x?) using an internal SSH connection from either the client or server side to troubleshoot your connectivity issues. For example, if you cannot ssh vyos@PublicIP from your laptop, then try ssh vyos@PrivateIP from client or server using nested ssh.**\n",
      "    \n",
      "\n",
      "I appreciate your persistence so far. In the first week, we familiarized ourselves with using local virtual machines to simulate network communication with the help of a Hypervisor. This week, we are attempting to deploy the core elements of Experiment 1 onto AWS. AWS's EC2 is an excellent and typical example of Infrastructure as a Service (IaaS) in cloud computing (EE555 will cover related theories). Although we are essentially doing the same thing in these two experiments, the AWS configuration introduces various miscellaneous issues (perhaps the AWS internal software router is similar to VyOS). I'm sorry that I cannot individually review and debug for each person, but all I can do is speculate on potential issues, and I apologize for that. You are encouraged to check your settings with each other.\n",
      "\n",
      "Due to these challenges, personally, I prefer Oracle Cloud, which is both free and user-friendly. It lacks many features I rarely use and is easier to configure. However, large companies are primarily using AWS now, so perhaps familiarity with AWS is more beneficial for job prospects? In the first two experiments, we learned how to configure virtual machines proficiently (maybe that's all we did?). In the upcoming experiments, we will make the most of them, as AWS can provide much more computational power than local setups. This will allow us to embark on more meaningful projects, with fewer of the miscellaneous issues we encountered in the first two experiments.\n",
      "{'filename': '/home/jason/coursistant/DR/txt/question.txt', 'retrieval_score': 0.7533819370971339}\n",
      "=P\n",
      "\n",
      "The reason why the professor said you have to delete 'one' to add 'the other' is that the two rules in the provided command are both added to the **'root'** position of the chain and they are conflicted.\n",
      "\n",
      "But of course you should add them both in some way, namely in this way:\n",
      "\n",
      "```shell\n",
      "rules chain (parent -> handle):\n",
      "root -> rule 1 -> rule 2 -> ...\n",
      "```\n",
      "\n",
      "You may want to understand this:\n",
      "\n",
      "```shell\n",
      "# see: root -> rule 1 -> rule 2\n",
      "\n",
      "sudo tc qdisc add dev eth0 root handle 1: netem delay 100ms\n",
      "sudo tc qdisc add dev eth0 parent 1: handle 2: tbf rate 10mbit latency 1ms burst 90155 limit 2000000\n",
      "```\n",
      "\n",
      "Question: When I am running \"sudo cat /proc/sys/net/core/rmem_max\". I am getting error as \"cat: /proc/sys/net/core/rmex_max: No such file or directory\".Since I am using Ubuntu on MacOS, is this issue due to this fact?Please let me know how I can resolve this issue.Thanks in advance.\n",
      "Answer: Yes, that's probably the reason. Please use AWS EC2 to do the Lab.\n",
      "\n",
      "Question: For this lab, can we write three case-specific programs that implement different algorithms, or we should write a generic program that should be used across different cases?\n",
      "Answer: Two programs for all the cases. One for server (in all situations), the other for client ( in all situations).\n",
      "\n",
      "Question: For Lab4, can we use instance with larger memory or better CPU?\n",
      "Answer: Yes. Make sure the bottom neck of your network will not be your virtual machines.\n",
      "\n",
      "Question: Hi guys,\n",
      "I met a problem hard to understand while deploying topology network on aws vpc.\n",
      "the environment configuration\n",
      "1)client located in 10.0.1.0/24 and 10.0.2.0/24 with its primary interface 10.0.1.0/24\n",
      "2)router located in 10.0.2.0/24 and 10.0.3.0/24 with its primary interface 10.0.3.0/24\n",
      "3)server located in 10.0.3.0/24 and 10.0.4.0/24 with its primary interface 10.0.4.0/24\n",
      "4)all subnets are connected to the default router with one internet gateway and one for all the local address\n",
      "the problem is that I can ping from client to 10.0.3.56 while 10.0.3.0/24 does not appear either in client's ARP nor routing table \n",
      "in addition, after I add sudo ip route 10.0.3.0/24 via 10.0.2.60(interface on the router), the traffic from client to server will pass 10.0.2.60\n",
      "Does anyone know why this problem happens?\n",
      "Answer: > the problem is that I can ping from client to 10.0.3.56 while 10.0.3.0/24 does not appear either in client's ARP nor routing table\n",
      "\n",
      "I am not sure if you are asking since your laptop and Google's servers are on different networks, you should not be able to ping Google?\n",
      "\n",
      "Question: for Lab 4, should the start time be the moment the sender open the file, or should it be the moment the sender start to send file through the internet?For the end time, should it be the moment the file is fully written to the disk, or should it be the moment the entire file is received and ordered, but writting file is not finished yet?\n",
      "Answer: Measure the time from `start to send` to `finish sending`. And also check md5sum. Maybe you want to read the whole file before start sending instead of reading and sending at the same time.\n",
      "\n",
      "Question: Hi everyone, I am wondering for the submission of lab 4 report and video, is it enough for one person in the group to submit? Or does everyone in the group need to submit? Thanks.\n",
      "Answer: One submission each team.\n",
      "\n",
      "Question: Please give information on what kit and products needed to be purchased for this class. Direct link will be great. And those things should be purchased for a personal or as a team?\n",
      "Answer: I will confirm with the professor and get back to you.\n",
      "\n",
      "Question: I currently have aws ubuntu desktop20.04 Focalinstalled on my ec2 instance VM.  However, the linux kernal version is shown as 5.15.0-1044, which seems to belong to \"Jammy Jellyfish\" version.  Which kernel version should I download in the following case ?\n",
      "{'filename': '/home/jason/coursistant/DR/txt/question.txt', 'retrieval_score': 0.7831712575785905}\n",
      "Thanks.\n",
      "Answer: You may try directly copying the ssh command from the aws ec2 instance webpage to make sure your command is correct.\n",
      "\n",
      "Question: Hi Class,I have create all the instances needed for lab2 and have use ssh to connect to the vyos instance which works well on my computer. However, when I tried to use ssh to connect to the other ubuntu instance, it will show error: \"ssh: connect to host ip port 22: Connection timed out\". I have checked the security rules and the routes of the route table which should be fine. But for ubuntu instance I still cannot connect them using ssh. What should I do to deal with this problem?\n",
      "Answer: Can you provide more information? First, you should test whether you can ping this IP.\n",
      "\n",
      "Question: What is a dhclient in the following question: \"What can be used in vyos Vm to start dhclient in Vyos VM?\"\n",
      "Answer: dhclient is a command to configure dhcp\n",
      "\n",
      "Question: Hi everyone,I am trying to set elastic ip for client/server/vyos. For Ubuntu, it works. I can ping the ip and use ssh connection. However, when I try to do the same for vyos, it doesn't work.I use the same security rule , so I think it is not the problem. I can also see the public ip I set in instance's detail. So I am just wondering is there some special settings for vyos when trying to ping its ip and get ssh connection? Thanks.\n",
      "Answer: Here are a few suggestions:1. You should check if the router table of your VPC is set to \"main\" (create a new route table, adding 0.0.0.0, and in \"actions\", click set main route table).2. If you change your configuration anytime, you might need to try re-binding the elastic IP to another n/i on vyOS.3. If you want to ssh vyOS, you should use \"vyos\" as the username instead of \"root\" (e.g., ssh -i *.perm vyos@x.x.x.x).\n",
      "\n",
      "Question: Hey class,I have been trying to get my elastic IP address to work on eth1 for my ubuntu server and client VMs. I've been able to associate the elastic IP with eth0 and SSH to it from there. I then statically assigned eth1 the local IP address given by the AWS instance. However, when I associate the the elastic IP with eth1 I am not able to ping or SSH it. Do I have to edit the routing/gateway for eth1? Has anyone else ran into a similar issue?\n",
      "Answer: Here are a few suggestions:1. You should check if the router table of your VPC is set to \"main\" (create a new route table, adding 0.0.0.0, and in \"actions\", click set main route table).2. If you change your configuration anytime, you might need to try re-binding the elastic IP to another n/i on vyOS.3. If you want to ssh vyOS, you should use \"vyos\" as the username instead of \"root\" (e.g., ssh -i *.permvyos@x.x.x.x).4. You do not need to set the statical/primary IP when you create your network interface.\n",
      "\n",
      "Question: Hi Yude,When I use ssh to connect vyos system from host, this error message pops up:Where I have make sure the private key is correct because I use the same for client and server, and I am not sure why this happened.However, I find another way to connect to it by using putty. Since we all know the default usrname and password of vyos system is \"vyos\". I just wonder am I going to be deduct points if I continue my lab by using putty remote login.Thank you,Xiaofeng\n",
      "Answer: Try vyos@ instead of root@ may help?\n",
      "\n",
      "Question: I found some mistakes in my previous submissions, can I resubmit it? If so, is there any limitation on the submission time?\n",
      "\n",
      "Thank you for answering.\n",
      "Answer: Yes, you can add another submission.\n",
      "[ChatMessage(role=<MessageRole.SYSTEM: 'system'>, content=\"You are a Virtual Teaching Assistant. Answer questions in the style of a human TA.If you can find the answer in the context, don't modify too much, if you are able to find multiple answers, structure them and summerize them.\", additional_kwargs={}), ChatMessage(role=<MessageRole.USER: 'user'>, content='You are given a context with all piazza posts and answers of a certain course.\\nAnswer the following questions: Connectivity issues with instances deployed on AWS\\n\\n\\n\\nHere\\'s a JSON schema to follow:\\n{\"description\": \"Object representing a single knowledge pdf file.\", \"properties\": {\"answer\": {\"default\": \"None\", \"title\": \"Answer\", \"type\": \"string\", \"description\": \"Your Answer to the given query\"}}, \"title\": \"AnswerFormat\", \"type\": \"object\"}\\n\\nOutput a valid JSON object but do not repeat the schema.\\nHere is some context that may be relevant:\\n-----\\nContext Chunk 0:\\nfilename: /home/jason/coursistant/DR/txt/announcement.txt\\nretrieval_score: 0.8286686360507944\\n\\nAnnouncement: Monday (12/04): 3:00 pm - 5:00 pm (Science and Engineering Library Room 209)\\n\\nWednesday (12/06): 8:00 pm - 10:00 pm (Science and Engineering Library Room 209) (Final OHs)\\n\\n\\nAnnouncement: Dear all,\\n\\nIt appears that many of you are experiencing connectivity issues with instances deployed on AWS. As you may have already guessed, any misconfiguration within the series of complex settings from the creation of your remote instances to the ssh can lead to connection failures. Here are some potential reasons I\\'ve identified, including issues that previous students encountered during my office hours, which I hope will assist you:\\n\\n*   Ensure that you are using Ubuntu 20 and the VyOS rolling version (I used rolling 1.3, but version 1.3.3 should work as well).\\n    \\n*   Verify that your VPC\\'s route tables are set to \"main\" and the target is set to \"any (0.0.0.0/0)\"\\n    \\n*   Check if your security rules allow TCP requests from any network.\\n    \\n*   Review the network (subnet) topology to ensure that each instance is configured correctly.\\n    \\n*   Confirm whether the Elastic IP is correctly associated with the intended interface.\\n    \\n*   Double-check your SSH key and the connection method (use the connection command copied from the \"Connect\" page on the website).\\n    \\n*   **If you suspect that you cannot connect to the remote host due to issues with the remote operating system, there\\'s a way to confirm your suspicion. Instead of using an Elastic IP, assign a public IP directly to a specific port when creating the EC2 instance, and then check if you can SSH/ping into it. If you can, it suggests that the issue is not related to the system.**\\n    \\n*   **If you cannot SSH into the software router using a public IP, you can try connecting to the software router (10.0.2.x?) using an internal SSH connection from either the client or server side to troubleshoot your connectivity issues. For example, if you cannot ssh vyos@PublicIP from your laptop, then try ssh vyos@PrivateIP from client or server using nested ssh.**\\n    \\n\\nI appreciate your persistence so far. In the first week, we familiarized ourselves with using local virtual machines to simulate network communication with the help of a Hypervisor. This week, we are attempting to deploy the core elements of Experiment 1 onto AWS. AWS\\'s EC2 is an excellent and typical example of Infrastructure as a Service (IaaS) in cloud computing (EE555 will cover related theories). Although we are essentially doing the same thing in these two experiments, the AWS configuration introduces various miscellaneous issues (perhaps the AWS internal software router is similar to VyOS). I\\'m sorry that I cannot individually review and debug for each person, but all I can do is speculate on potential issues, and I apologize for that. You are encouraged to check your settings with each other.\\n\\nDue to these challenges, personally, I prefer Oracle Cloud, which is both free and user-friendly. It lacks many features I rarely use and is easier to configure. However, large companies are primarily using AWS now, so perhaps familiarity with AWS is more beneficial for job prospects? In the first two experiments, we learned how to configure virtual machines proficiently (maybe that\\'s all we did?). In the upcoming experiments, we will make the most of them, as AWS can provide much more computational power than local setups. This will allow us to embark on more meaningful projects, with fewer of the miscellaneous issues we encountered in the first two experiments.\\n\\nContext Chunk 1:\\nfilename: /home/jason/coursistant/DR/txt/question.txt\\nretrieval_score: 0.7533819370971339\\n\\n=P\\n\\nThe reason why the professor said you have to delete \\'one\\' to add \\'the other\\' is that the two rules in the provided command are both added to the **\\'root\\'** position of the chain and they are conflicted.\\n\\nBut of course you should add them both in some way, namely in this way:\\n\\n```shell\\nrules chain (parent -> handle):\\nroot -> rule 1 -> rule 2 -> ...\\n```\\n\\nYou may want to understand this:\\n\\n```shell\\n# see: root -> rule 1 -> rule 2\\n\\nsudo tc qdisc add dev eth0 root handle 1: netem delay 100ms\\nsudo tc qdisc add dev eth0 parent 1: handle 2: tbf rate 10mbit latency 1ms burst 90155 limit 2000000\\n```\\n\\nQuestion: When I am running \"sudo cat /proc/sys/net/core/rmem_max\". I am getting error as \"cat: /proc/sys/net/core/rmex_max: No such file or directory\".Since I am using Ubuntu on MacOS, is this issue due to this fact?Please let me know how I can resolve this issue.Thanks in advance.\\nAnswer: Yes, that\\'s probably the reason. Please use AWS EC2 to do the Lab.\\n\\nQuestion: For this lab, can we write three case-specific programs that implement different algorithms, or we should write a generic program that should be used across different cases?\\nAnswer: Two programs for all the cases. One for server (in all situations), the other for client ( in all situations).\\n\\nQuestion: For Lab4, can we use instance with larger memory or better CPU?\\nAnswer: Yes. Make sure the bottom neck of your network will not be your virtual machines.\\n\\nQuestion: Hi guys,\\nI met a problem hard to understand while deploying topology network on aws vpc.\\nthe environment configuration\\n1)client located in 10.0.1.0/24 and 10.0.2.0/24 with its primary interface 10.0.1.0/24\\n2)router located in 10.0.2.0/24 and 10.0.3.0/24 with its primary interface 10.0.3.0/24\\n3)server located in 10.0.3.0/24 and 10.0.4.0/24 with its primary interface 10.0.4.0/24\\n4)all subnets are connected to the default router with one internet gateway and one for all the local address\\nthe problem is that I can ping from client to 10.0.3.56 while 10.0.3.0/24 does not appear either in client\\'s ARP nor routing table \\nin addition, after I add sudo ip route 10.0.3.0/24 via 10.0.2.60(interface on the router), the traffic from client to server will pass 10.0.2.60\\nDoes anyone know why this problem happens?\\nAnswer: > the problem is that I can ping from client to 10.0.3.56 while 10.0.3.0/24 does not appear either in client\\'s ARP nor routing table\\n\\nI am not sure if you are asking since your laptop and Google\\'s servers are on different networks, you should not be able to ping Google?\\n\\nQuestion: for Lab 4, should the start time be the moment the sender open the file, or should it be the moment the sender start to send file through the internet?For the end time, should it be the moment the file is fully written to the disk, or should it be the moment the entire file is received and ordered, but writting file is not finished yet?\\nAnswer: Measure the time from `start to send` to `finish sending`. And also check md5sum. Maybe you want to read the whole file before start sending instead of reading and sending at the same time.\\n\\nQuestion: Hi everyone, I am wondering for the submission of lab 4 report and video, is it enough for one person in the group to submit? Or does everyone in the group need to submit? Thanks.\\nAnswer: One submission each team.\\n\\nQuestion: Please give information on what kit and products needed to be purchased for this class. Direct link will be great. And those things should be purchased for a personal or as a team?\\nAnswer: I will confirm with the professor and get back to you.\\n\\nQuestion: I currently have aws ubuntu desktop20.04 Focalinstalled on my ec2 instance VM.\\xa0 However, the linux kernal version is shown as 5.15.0-1044, which seems to belong to \"Jammy Jellyfish\" version.\\xa0 Which kernel version should I download in the following case ?\\n\\nContext Chunk 2:\\nfilename: /home/jason/coursistant/DR/txt/question.txt\\nretrieval_score: 0.7831712575785905\\n\\nThanks.\\nAnswer: You may try directly copying the ssh command from the aws ec2 instance webpage to make sure your command is correct.\\n\\nQuestion: Hi Class,I have create all the instances needed for lab2 and have use ssh to connect to the vyos instance which works well on my computer. However, when I tried to use ssh to connect to the other ubuntu instance, it will show error: \"ssh: connect to host ip port 22: Connection timed out\". I have checked the security rules and the routes of the route table which should be fine. But for ubuntu instance I still cannot connect them using ssh. What should I do to deal with this problem?\\nAnswer: Can you provide more information? First, you should test whether you can ping this IP.\\n\\nQuestion: What is a dhclient in the following question: \"What can be used in vyos Vm to start dhclient in Vyos VM?\"\\nAnswer: dhclient is a command to configure dhcp\\n\\nQuestion: Hi everyone,I am trying to set elastic ip for client/server/vyos. For Ubuntu, it works. I can ping the ip and use ssh connection. However, when I try to do the same for vyos, it doesn\\'t work.I use the same security rule , so I think it is not the problem. I can also see the public ip I set in instance\\'s detail. So I am just wondering is there some special settings for vyos when trying to ping its ip and get ssh connection? Thanks.\\nAnswer: Here are a few suggestions:1. You should check if the router table of your VPC is set to \"main\" (create a new route table, adding 0.0.0.0, and in \"actions\", click set main route table).2. If you change your configuration anytime, you might need to try re-binding the elastic IP to another n/i on vyOS.3. If you want to ssh vyOS, you should use \"vyos\" as the username instead of \"root\" (e.g., ssh -i *.perm vyos@x.x.x.x).\\n\\nQuestion: Hey class,I have been trying to get my elastic IP address to work on eth1 for my ubuntu server and client VMs. I\\'ve been able to associate the elastic IP with eth0 and SSH to it from there. I then statically assigned eth1 the local IP address given by the AWS instance. However, when I associate the the elastic IP with eth1 I am not able to ping or SSH it. Do I have to edit the routing/gateway for eth1? Has anyone else ran into a similar issue?\\nAnswer: Here are a few suggestions:1. You should check if the router table of your VPC is set to \"main\" (create a new route table, adding 0.0.0.0, and in \"actions\", click set main route table).2. If you change your configuration anytime, you might need to try re-binding the elastic IP to another n/i on vyOS.3. If you want to ssh vyOS, you should use \"vyos\" as the username instead of \"root\" (e.g., ssh -i *.permvyos@x.x.x.x).4. You do not need to set the statical/primary IP when you create your network interface.\\n\\nQuestion: Hi Yude,When I use ssh to connect vyos system from host, this error message pops up:Where I have make sure the private key is correct because I use the same for client and server, and I am not sure why this happened.However, I find another way to connect to it by using putty. Since we all know the default usrname and password of vyos system is \"vyos\". I just wonder am I going to be deduct points if I continue my lab by using putty remote login.Thank you,Xiaofeng\\nAnswer: Try vyos@ instead of root@ may help?\\n\\nQuestion: I found some mistakes in my previous submissions, can I resubmit it? If so, is there any limitation on the submission time?\\n\\nThank you for answering.\\nAnswer: Yes, you can add another submission.\\n\\n\\n-----\\n', additional_kwargs={})]\n"
     ]
    }
   ],
   "source": [
    "response = pipeline.run(query_str=\"Connectivity issues with instances deployed on AWS\")"
   ]
  },
  {
   "cell_type": "code",
   "execution_count": 42,
   "metadata": {},
   "outputs": [
    {
     "name": "stdout",
     "output_type": "stream",
     "text": [
      "50df09cc-eede-450b-b142-38a400b85359\n",
      "Announcement: Monday (12/04): 3:00 pm - 5:00 pm (Science and Engineering Library Room 209)\n",
      "\n",
      "Wednesday (12/06): 8:00 pm -\n",
      "reranking score:  0.7618685960769653\n",
      "retrieval score:  0.8286686360507944\n",
      "**********\n",
      "f7c8213e-7268-4cb3-8d2e-a7298ec71a4d\n",
      "=P\n",
      "\n",
      "The reason why the professor said you have to delete 'one' to add 'the other' is that the two rules in the provided \n",
      "reranking score:  0.6718893051147461\n",
      "retrieval score:  0.7533819370971339\n",
      "**********\n",
      "861a760f-d5cc-4f99-a5d5-bd375bcfd74f\n",
      "Thanks.\n",
      "Answer: You may try directly copying the ssh command from the aws ec2 instance webpage to make sure your command\n",
      "reranking score:  0.6224735379219055\n",
      "retrieval score:  0.7831712575785905\n",
      "**********\n"
     ]
    }
   ],
   "source": [
    "for node in nodes:\n",
    "    print(node.id_)\n",
    "    print(node.node.get_content()[:120])\n",
    "    print(\"reranking score: \", node.score)\n",
    "    print(\"retrieval score: \", node.node.metadata[\"retrieval_score\"])\n",
    "    print(\"**********\")"
   ]
  },
  {
   "cell_type": "code",
   "execution_count": 52,
   "metadata": {},
   "outputs": [
    {
     "name": "stdout",
     "output_type": "stream",
     "text": [
      "assistant: ```json\n",
      "{\n",
      "  \"answer\": \"Many students have experienced connectivity issues with instances deployed on AWS. Here are some potential solutions and troubleshooting steps:\n",
      "\n",
      "1. Ensure you are using Ubuntu 20 and the VyOS rolling version (rolling 1.3 or 1.3.3).\n",
      "2. Verify that your VPC's route tables are set to 'main' and the target is set to 'any (0.0.0.0/0)'.\n",
      "3. Check if your security rules allow TCP requests from any network.\n",
      "4. Review the network (subnet) topology to ensure each instance is configured correctly.\n",
      "5. Confirm whether the Elastic IP is correctly associated with the intended interface.\n",
      "6. Double-check your SSH key and the connection method (use the connection command copied from the 'Connect' page on the AWS website).\n",
      "7. If you suspect issues with the remote operating system, assign a public IP directly to a specific port when creating the EC2 instance and check if you can SSH/ping into it.\n",
      "8. If you cannot SSH into the software router using a public IP, try connecting to the software router (10.0.2.x?) using an internal SSH connection from either the client or server side to troubleshoot your connectivity issues.\n",
      "\n",
      "Additionally, ensure that the router table of your VPC is set to 'main' and try re-binding the Elastic IP if you change your configuration. Use 'vyos' as the username instead of 'root' when SSHing into VyOS (e.g., ssh -i *.perm vyos@x.x.x.x).\"\n",
      "}\n",
      "```\n"
     ]
    }
   ],
   "source": [
    "print(response)"
   ]
  },
  {
   "cell_type": "code",
   "execution_count": 47,
   "metadata": {},
   "outputs": [
    {
     "name": "stdout",
     "output_type": "stream",
     "text": [
      "rag_dag.html\n"
     ]
    },
    {
     "data": {
      "text/html": [
       "\n",
       "        <iframe\n",
       "            width=\"100%\"\n",
       "            height=\"600px\"\n",
       "            src=\"rag_dag.html\"\n",
       "            frameborder=\"0\"\n",
       "            allowfullscreen\n",
       "            \n",
       "        ></iframe>\n",
       "        "
      ],
      "text/plain": [
       "<IPython.lib.display.IFrame at 0x7e03d0a8e2a0>"
      ]
     },
     "execution_count": 47,
     "metadata": {},
     "output_type": "execute_result"
    }
   ],
   "source": [
    "from pyvis.network import Network\n",
    "\n",
    "net = Network(notebook=True, cdn_resources=\"in_line\", directed=True)\n",
    "net.from_nx(pipeline.dag)\n",
    "net.show(\"rag_dag.html\")"
   ]
  }
 ],
 "metadata": {
  "kernelspec": {
   "display_name": "coursistant",
   "language": "python",
   "name": "python3"
  },
  "language_info": {
   "codemirror_mode": {
    "name": "ipython",
    "version": 3
   },
   "file_extension": ".py",
   "mimetype": "text/x-python",
   "name": "python",
   "nbconvert_exporter": "python",
   "pygments_lexer": "ipython3",
   "version": "3.12.3"
  }
 },
 "nbformat": 4,
 "nbformat_minor": 2
}
