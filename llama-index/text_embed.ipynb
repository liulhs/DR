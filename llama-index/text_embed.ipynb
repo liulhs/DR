{
 "cells": [
  {
   "cell_type": "code",
   "execution_count": 9,
   "metadata": {},
   "outputs": [],
   "source": [
    "from llama_index.core import VectorStoreIndex, SimpleDirectoryReader\n",
    "from llama_index.core import StorageContext, load_index_from_storage\n",
    "import os\n",
    "from llama_index.core import Document\n",
    "\n",
    "\n",
    "def create_index(txt_folder_path, index_folder):\n",
    "    documents = []\n",
    "    for filename in os.listdir(txt_folder_path):\n",
    "        if filename.endswith('.txt'):\n",
    "            txt_file_path = os.path.join(txt_folder_path, filename)\n",
    "            with open(txt_file_path, 'r') as file:\n",
    "                # Read the content of the file into a string\n",
    "                file_content = file.read()\n",
    "                document = Document(\n",
    "                    text=file_content,\n",
    "                    metadata={\"filename\": txt_file_path},\n",
    "                )\n",
    "                documents.append(document)\n",
    "    \n",
    "    if documents:\n",
    "        index = VectorStoreIndex.from_documents(documents)\n",
    "        index.storage_context.persist(persist_dir=index_folder)"
   ]
  },
  {
   "cell_type": "code",
   "execution_count": 10,
   "metadata": {},
   "outputs": [],
   "source": [
    "create_index('/home/jason/coursistant/DR/txt', '/home/jason/coursistant/DR/llama-index/index/piazza')"
   ]
  }
 ],
 "metadata": {
  "kernelspec": {
   "display_name": "coursistant",
   "language": "python",
   "name": "python3"
  },
  "language_info": {
   "codemirror_mode": {
    "name": "ipython",
    "version": 3
   },
   "file_extension": ".py",
   "mimetype": "text/x-python",
   "name": "python",
   "nbconvert_exporter": "python",
   "pygments_lexer": "ipython3",
   "version": "3.12.3"
  }
 },
 "nbformat": 4,
 "nbformat_minor": 2
}
