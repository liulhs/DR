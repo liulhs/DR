{
 "cells": [
  {
   "cell_type": "code",
   "execution_count": 5,
   "metadata": {},
   "outputs": [],
   "source": [
    "from llama_parse import LlamaParse\n",
    "from llama_index.core import SimpleDirectoryReader, VectorStoreIndex\n",
    "import nest_asyncio"
   ]
  },
  {
   "cell_type": "code",
   "execution_count": 3,
   "metadata": {},
   "outputs": [],
   "source": [
    "nest_asyncio.apply()"
   ]
  },
  {
   "cell_type": "code",
   "execution_count": 4,
   "metadata": {},
   "outputs": [
    {
     "name": "stdout",
     "output_type": "stream",
     "text": [
      "Started parsing the file under job_id 2b1c4b80-ad07-4b03-8a58-8ff0b9b715bc\n",
      "Started parsing the file under job_id af59ab33-518b-43ec-83ce-a89b6592d5a7\n",
      "..Started parsing the file under job_id 3ff584d2-6cda-43de-b0eb-63da30629469\n",
      ".."
     ]
    }
   ],
   "source": [
    "from llama_parse import LlamaParse\n",
    "\n",
    "parser = LlamaParse(\n",
    "    api_key=\"llx-PzThsSMHrXji6213CEdT0bEgJ7m1aacbAVQEvahPis4zzjwz\",  # can also be set in your env as LLAMA_CLOUD_API_KEY\n",
    "    result_type=\"text\",  # \"markdown\" and \"text\" are available\n",
    "    verbose=True,\n",
    ")\n",
    "\n",
    "file_extractor = {\".pdf\": parser}\n",
    "documents = SimpleDirectoryReader(\n",
    "    \"./data/pdfs\", file_extractor=file_extractor\n",
    ").load_data()"
   ]
  },
  {
   "cell_type": "code",
   "execution_count": 9,
   "metadata": {},
   "outputs": [],
   "source": [
    "index = VectorStoreIndex.from_documents(documents)"
   ]
  },
  {
   "cell_type": "code",
   "execution_count": 11,
   "metadata": {},
   "outputs": [],
   "source": [
    "chat_engine = index.as_chat_engine(\n",
    "    chat_mode=\"context\",\n",
    "    system_prompt=(\n",
    "        \"You are a chatbot, answer according to the given pdf file as contexts.\"\n",
    "    ),\n",
    ")"
   ]
  },
  {
   "cell_type": "code",
   "execution_count": 12,
   "metadata": {},
   "outputs": [
    {
     "name": "stdout",
     "output_type": "stream",
     "text": [
      "Bot: Hello! How can I assist you today?\n",
      "Bot: From the provided PDFs, I learned about key ingredients in machine learning, such as data collection, modeling, and prediction. The documents also discussed the history and applications of machine learning, including recognizing flowers, handwritten zip codes, and social media recognition. Additionally, the PDFs covered different flavors of learning problems like supervised learning, unsupervised learning, and reinforcement learning. The focus of the course mentioned in the PDFs is on supervised learning before the midterm and unsupervised learning after the midterm.\n",
      "Bot: The temperature pattern can be described by using linear regression, which is a method for predicting a continuous outcome variable based on past observations. In the context of machine learning, linear regression can be used to predict future temperatures by analyzing historical temperature data. By fitting a linear model to the data, we can identify trends and patterns in temperature variations over time.\n",
      "Bot: This information is not explicitly mentioned in the provided PDFs. However, it is a common approach in machine learning and data analysis to use linear regression to describe patterns and trends in data, including temperature patterns.\n",
      "Bot: The description of how to model and describe the temperature pattern using a polynomial function is mentioned in the PDF under the section \"How do we describe the pattern?\" It discusses building a model to fit the data with a polynomial function to capture the major trend in the temperature data.\n",
      "Bot: The information about describing the temperature pattern by fitting the data with a polynomial function is mentioned in the file \"lec1_2023.pdf\" on page 7.\n",
      "Bot: I'm unable to display images directly. However, you can refer to the file \"lec1_2023.pdf\" on page 7 to view the picture and details about describing the temperature pattern by fitting the data with a polynomial function.\n"
     ]
    }
   ],
   "source": [
    "while True:\n",
    "    user_input = input(\"User: \")\n",
    "    if user_input == \"quit\":\n",
    "        break\n",
    "    response = chat_engine.chat(user_input)\n",
    "    print(\"Bot:\", response)"
   ]
  }
 ],
 "metadata": {
  "kernelspec": {
   "display_name": "EE641",
   "language": "python",
   "name": "python3"
  },
  "language_info": {
   "codemirror_mode": {
    "name": "ipython",
    "version": 3
   },
   "file_extension": ".py",
   "mimetype": "text/x-python",
   "name": "python",
   "nbconvert_exporter": "python",
   "pygments_lexer": "ipython3",
   "version": "3.12.3"
  }
 },
 "nbformat": 4,
 "nbformat_minor": 2
}
