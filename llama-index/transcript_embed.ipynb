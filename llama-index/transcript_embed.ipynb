{
 "cells": [
  {
   "cell_type": "code",
   "execution_count": 3,
   "metadata": {},
   "outputs": [],
   "source": [
    "from llama_index.core import VectorStoreIndex, SimpleDirectoryReader\n",
    "from llama_index.core import StorageContext, load_index_from_storage\n",
    "\n",
    "from llama_index.embeddings.huggingface import HuggingFaceEmbedding\n",
    "from llama_index.core import Settings\n",
    "from llama_index.core import Document\n",
    "\n",
    "# def create_index(txt_file_path, index_folder):\n",
    "#     Settings.embed_model = HuggingFaceEmbedding(\n",
    "#         model_name=\"BAAI/bge-large-en-v1.5\"\n",
    "#     )\n",
    "\n",
    "#     documents = SimpleDirectoryReader(input_files=[txt_file_path]).load_data()\n",
    "#     index = VectorStoreIndex.from_documents(documents)\n",
    "#     index.storage_context.persist(persist_dir=index_folder)"
   ]
  },
  {
   "cell_type": "code",
   "execution_count": 4,
   "metadata": {},
   "outputs": [
    {
     "name": "stderr",
     "output_type": "stream",
     "text": [
      "/home/evelyn/anaconda3/envs/llm/lib/python3.12/site-packages/huggingface_hub/file_download.py:1132: FutureWarning: `resume_download` is deprecated and will be removed in version 1.0.0. Downloads always resume when possible. If you want to force a new download, use `force_download=True`.\n",
      "  warnings.warn(\n",
      "/home/evelyn/anaconda3/envs/llm/lib/python3.12/site-packages/huggingface_hub/file_download.py:1132: FutureWarning: `resume_download` is deprecated and will be removed in version 1.0.0. Downloads always resume when possible. If you want to force a new download, use `force_download=True`.\n",
      "  warnings.warn(\n"
     ]
    }
   ],
   "source": [
    "with open('transcription_output.txt', 'r') as file:\n",
    "    # Read the content of the file into a string\n",
    "    file_content = file.read()\n",
    "    Settings.embed_model = HuggingFaceEmbedding(\n",
    "        model_name=\"BAAI/bge-large-en-v1.5\"\n",
    "    )\n",
    "    document = Document(\n",
    "        text=file_content,\n",
    "        metadata={\"filename\": \"transcription_output.txt\", \"category\": \"Video Transcription\", \"URL\": \"https://youtu.be/G2fqAlgmoPo?si=ndQSbBJ_eiE96VSj\", \"Link\": \"https://youtu.be/G2fqAlgmoPo?si=ndQSbBJ_eiE96VSj\"},\n",
    "    )\n",
    "    index = VectorStoreIndex.from_documents([document])\n",
    "    index.storage_context.persist(persist_dir=\"./index/video\")"
   ]
  },
  {
   "cell_type": "code",
   "execution_count": null,
   "metadata": {},
   "outputs": [],
   "source": [
    "def create_index(txt_file_path, index_folder):\n",
    "    with open(txt_file_path, 'r') as file:\n",
    "        # Read the content of the file into a string\n",
    "        file_content = file.read()\n",
    "        Settings.embed_model = HuggingFaceEmbedding(\n",
    "            model_name=\"BAAI/bge-large-en-v1.5\"\n",
    "        )\n",
    "        document = Document(\n",
    "            text=file_content,\n",
    "            metadata={\"filename\": txt_file_path, \"category\": \"Video Transcription\", \"URL\": \"https://youtu.be/G2fqAlgmoPo?si=ndQSbBJ_eiE96VSj\", \"Link\": \"https://youtu.be/G2fqAlgmoPo?si=ndQSbBJ_eiE96VSj\"},\n",
    "        )\n",
    "        index = VectorStoreIndex.from_documents([document])\n",
    "        index.storage_context.persist(persist_dir=index_folder)"
   ]
  },
  {
   "cell_type": "code",
   "execution_count": 14,
   "metadata": {},
   "outputs": [
    {
     "data": {
      "application/vnd.jupyter.widget-view+json": {
       "model_id": "c62b57bc2e4e43b29f1729cfd108db62",
       "version_major": 2,
       "version_minor": 0
      },
      "text/plain": [
       "modules.json:   0%|          | 0.00/349 [00:00<?, ?B/s]"
      ]
     },
     "metadata": {},
     "output_type": "display_data"
    },
    {
     "data": {
      "application/vnd.jupyter.widget-view+json": {
       "model_id": "610e168f24d54580b90d9ddf085a9cbe",
       "version_major": 2,
       "version_minor": 0
      },
      "text/plain": [
       "config_sentence_transformers.json:   0%|          | 0.00/124 [00:00<?, ?B/s]"
      ]
     },
     "metadata": {},
     "output_type": "display_data"
    },
    {
     "data": {
      "application/vnd.jupyter.widget-view+json": {
       "model_id": "57279fa24f1e45ccb4dc150997880583",
       "version_major": 2,
       "version_minor": 0
      },
      "text/plain": [
       "README.md:   0%|          | 0.00/94.6k [00:00<?, ?B/s]"
      ]
     },
     "metadata": {},
     "output_type": "display_data"
    },
    {
     "data": {
      "application/vnd.jupyter.widget-view+json": {
       "model_id": "30c9becb04374d2a8ab96bfc57c7b42c",
       "version_major": 2,
       "version_minor": 0
      },
      "text/plain": [
       "sentence_bert_config.json:   0%|          | 0.00/52.0 [00:00<?, ?B/s]"
      ]
     },
     "metadata": {},
     "output_type": "display_data"
    },
    {
     "data": {
      "application/vnd.jupyter.widget-view+json": {
       "model_id": "134834bd01a341bda1c9cf525556a0a4",
       "version_major": 2,
       "version_minor": 0
      },
      "text/plain": [
       "config.json:   0%|          | 0.00/779 [00:00<?, ?B/s]"
      ]
     },
     "metadata": {},
     "output_type": "display_data"
    },
    {
     "data": {
      "application/vnd.jupyter.widget-view+json": {
       "model_id": "32d6cbc223154a8b9c0cf30113a3d534",
       "version_major": 2,
       "version_minor": 0
      },
      "text/plain": [
       "model.safetensors:   0%|          | 0.00/1.34G [00:00<?, ?B/s]"
      ]
     },
     "metadata": {},
     "output_type": "display_data"
    },
    {
     "data": {
      "application/vnd.jupyter.widget-view+json": {
       "model_id": "ec20468706754083bb4b863a023e30d7",
       "version_major": 2,
       "version_minor": 0
      },
      "text/plain": [
       "tokenizer_config.json:   0%|          | 0.00/366 [00:00<?, ?B/s]"
      ]
     },
     "metadata": {},
     "output_type": "display_data"
    },
    {
     "data": {
      "application/vnd.jupyter.widget-view+json": {
       "model_id": "bb31b0566ccc4755b065a3c12a922f18",
       "version_major": 2,
       "version_minor": 0
      },
      "text/plain": [
       "vocab.txt:   0%|          | 0.00/232k [00:00<?, ?B/s]"
      ]
     },
     "metadata": {},
     "output_type": "display_data"
    },
    {
     "data": {
      "application/vnd.jupyter.widget-view+json": {
       "model_id": "e1d06ad84632407e936fdd0a621d49dd",
       "version_major": 2,
       "version_minor": 0
      },
      "text/plain": [
       "tokenizer.json:   0%|          | 0.00/711k [00:00<?, ?B/s]"
      ]
     },
     "metadata": {},
     "output_type": "display_data"
    },
    {
     "data": {
      "application/vnd.jupyter.widget-view+json": {
       "model_id": "bd2ffaa6a8504ea59a5f61947df18dc5",
       "version_major": 2,
       "version_minor": 0
      },
      "text/plain": [
       "special_tokens_map.json:   0%|          | 0.00/125 [00:00<?, ?B/s]"
      ]
     },
     "metadata": {},
     "output_type": "display_data"
    },
    {
     "data": {
      "application/vnd.jupyter.widget-view+json": {
       "model_id": "f68f2c09cae344ca8b78044f85670258",
       "version_major": 2,
       "version_minor": 0
      },
      "text/plain": [
       "1_Pooling/config.json:   0%|          | 0.00/191 [00:00<?, ?B/s]"
      ]
     },
     "metadata": {},
     "output_type": "display_data"
    }
   ],
   "source": [
    "create_index(\"./transcription_output.txt\", \"./index/video\")"
   ]
  }
 ],
 "metadata": {
  "kernelspec": {
   "display_name": "EE641",
   "language": "python",
   "name": "python3"
  },
  "language_info": {
   "codemirror_mode": {
    "name": "ipython",
    "version": 3
   },
   "file_extension": ".py",
   "mimetype": "text/x-python",
   "name": "python",
   "nbconvert_exporter": "python",
   "pygments_lexer": "ipython3",
   "version": "3.12.3"
  }
 },
 "nbformat": 4,
 "nbformat_minor": 2
}
