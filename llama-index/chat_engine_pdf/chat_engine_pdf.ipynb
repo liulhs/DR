{
 "cells": [
  {
   "cell_type": "code",
   "execution_count": 2,
   "metadata": {},
   "outputs": [],
   "source": [
    "from llama_index.core import StorageContext, load_index_from_storage\n",
    "from llama_index.embeddings.huggingface import HuggingFaceEmbedding\n",
    "from llama_index.core import Settings\n",
    "from llama_index.core.memory import ChatMemoryBuffer"
   ]
  },
  {
   "cell_type": "code",
   "execution_count": 16,
   "metadata": {},
   "outputs": [],
   "source": [
    "Settings.embed_model = HuggingFaceEmbedding(\n",
    "    model_name=\"BAAI/bge-m3\"\n",
    ")\n",
    "storage_context = StorageContext.from_defaults(persist_dir=\"index/video\")\n",
    "index = load_index_from_storage(storage_context)\n",
    "memory = ChatMemoryBuffer.from_defaults(token_limit=50000)"
   ]
  },
  {
   "cell_type": "code",
   "execution_count": 17,
   "metadata": {},
   "outputs": [],
   "source": [
    "chat_engine = index.as_chat_engine(\n",
    "    chat_mode=\"context\",\n",
    "    memory=memory,\n",
    "    system_prompt=(\n",
    "        \"You are a chatbot assistant helping a user with their questions. \"\n",
    "        \"You are only allowed to provide information that is inside the context given to you. \"\n",
    "        \"The context given is a transcript of a video. You are given the link to the video. \"\n",
    "        \"First answer the user's question, then provide the timestamp in the video where the answer can be found. \"\n",
    "    ),\n",
    ")"
   ]
  },
  {
   "cell_type": "code",
   "execution_count": 19,
   "metadata": {},
   "outputs": [
    {
     "name": "stdout",
     "output_type": "stream",
     "text": [
      "Bot: Hello! How can I assist you today?\n",
      "Bot: I'm here to help. How can I assist you today?\n",
      "Bot: Hello! How can I assist you today?\n",
      "Bot: My purpose is to assist you by providing information and answering your questions to the best of my abilities. How can I help you today?\n",
      "Bot: The video is about Introduction to Generative AI. It covers topics such as defining generative AI, explaining how it works, describing generative AI model types, and discussing generative AI applications. You can find more details in the video at the following timestamp: 00:00:00.\n"
     ]
    }
   ],
   "source": [
    "while True:\n",
    "    user_input = input(\"User: \")\n",
    "    if user_input == \"quit\":\n",
    "        break\n",
    "    response = chat_engine.chat(user_input)\n",
    "    print(\"Bot:\", response)\n",
    "    "
   ]
  }
 ],
 "metadata": {
  "kernelspec": {
   "display_name": "llm",
   "language": "python",
   "name": "python3"
  },
  "language_info": {
   "codemirror_mode": {
    "name": "ipython",
    "version": 3
   },
   "file_extension": ".py",
   "mimetype": "text/x-python",
   "name": "python",
   "nbconvert_exporter": "python",
   "pygments_lexer": "ipython3",
   "version": "3.12.3"
  }
 },
 "nbformat": 4,
 "nbformat_minor": 2
}
