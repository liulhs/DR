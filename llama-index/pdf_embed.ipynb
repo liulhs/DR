{
 "cells": [
  {
   "cell_type": "code",
   "execution_count": 4,
   "metadata": {},
   "outputs": [],
   "source": [
    "from llama_parse import LlamaParse\n",
    "from llama_index.core import SimpleDirectoryReader, VectorStoreIndex\n",
    "import nest_asyncio\n",
    "import os\n",
    "from llama_index.core import PromptTemplate"
   ]
  },
  {
   "cell_type": "code",
   "execution_count": 11,
   "metadata": {},
   "outputs": [
    {
     "name": "stdout",
     "output_type": "stream",
     "text": [
      "Started parsing the file under job_id cac11eca-76e5-4b88-9a37-52c01075d0a0\n",
      "Started parsing the file under job_id cac11eca-9c5b-4eff-b5d8-e96821b02f49\n",
      "Started parsing the file under job_id cac11eca-b682-40a2-b4f4-aa8529868fe0\n",
      "Started parsing the file under job_id cac11eca-1492-4995-9465-7fbc0ce3effb\n",
      "Started parsing the file under job_id cac11eca-55ac-4094-9ab3-7134933f34cd\n"
     ]
    }
   ],
   "source": [
    "from llama_parse import LlamaParse\n",
    "\n",
    "parser = LlamaParse(\n",
    "    api_key=os.environ.get(\"LLAMA_CLOUD_API_KEY\"),  # can also be set in your env as LLAMA_CLOUD_API_KEY\n",
    "    result_type=\"text\",  # \"markdown\" and \"text\" are available\n",
    "    verbose=True,\n",
    ")\n",
    "\n",
    "file_extractor = {\".pdf\": parser}\n",
    "documents_dir = SimpleDirectoryReader(\n",
    "    \"./data/Test_Slides\", file_extractor=file_extractor, filename_as_id=True,\n",
    ").load_data()"
   ]
  },
  {
   "cell_type": "code",
   "execution_count": 12,
   "metadata": {},
   "outputs": [
    {
     "name": "stdout",
     "output_type": "stream",
     "text": [
      "Doc ID: f:\\Study\\Github_Repos\\DR\\llama-index\\data\\Test_Slides\\L01-f23.pdf_part_0\n",
      "Text: 0   63542     EE542    Loculro I:Intodctbn     Lecture 1:\n",
      "Introduction     Internet and Cloud Computing       Young Cho\n",
      "Department of Electrical Engineering     University of Southern\n",
      "California                                             1 --- Goals\n",
      "Goals      Internet       ◦ Computer Networking       ◦ Internet\n",
      "protocols       ◦ Network...\n"
     ]
    }
   ],
   "source": [
    "print(documents_dir[0])"
   ]
  },
  {
   "cell_type": "code",
   "execution_count": 72,
   "metadata": {},
   "outputs": [],
   "source": [
    "async def load_pdfs_directory(folder_path):\n",
    "    parser = LlamaParse(\n",
    "        api_key=os.environ.get(\"LLAMA_CLOUD_API_KEY\"),  # can also be set in your env as LLAMA_CLOUD_API_KEY\n",
    "        result_type=\"text\",  # \"markdown\" and \"text\" are available\n",
    "        verbose=True,\n",
    "    )\n",
    "    documents = []\n",
    "    # List all files in the folder\n",
    "    for filename in os.listdir(folder_path):\n",
    "        # Check if the file is a PDF\n",
    "        if filename.endswith('.pdf'):\n",
    "            # Construct the full file path\n",
    "            file_path = os.path.join(folder_path, filename)\n",
    "            print(f'Loading file {file_path}')\n",
    "            # Load the PDF file\n",
    "            document = await parser.aload_data(file_path)\n",
    "            # Append the document to the list\n",
    "            document[0].metadata = {\"filename\": filename, \"category\": \"PDF file\"}\n",
    "            documents += document\n",
    "    return documents"
   ]
  },
  {
   "cell_type": "code",
   "execution_count": 73,
   "metadata": {},
   "outputs": [
    {
     "name": "stdout",
     "output_type": "stream",
     "text": [
      "Loading file .\\data\\EE542_Slides\\L01-f23.pdf\n",
      "Started parsing the file under job_id cac11eca-7f04-4d5b-ae7a-8de92d056a86\n",
      "Loading file .\\data\\EE542_Slides\\L02-f23.pdf\n",
      "Started parsing the file under job_id cac11eca-c889-4968-aae9-7579aba8beca\n",
      "Loading file .\\data\\EE542_Slides\\L03-f23.pdf\n",
      "Started parsing the file under job_id cac11eca-4ced-4fee-bea2-3e206e4d9c84\n",
      "Loading file .\\data\\EE542_Slides\\L04-f23.pdf\n",
      "Started parsing the file under job_id cac11eca-e7a1-4a7b-80c7-011561d90a39\n",
      "Loading file .\\data\\EE542_Slides\\L05-f23.pdf\n",
      "Started parsing the file under job_id cac11eca-5604-4c3e-8a98-f1d8b82aceaa\n",
      "Loading file .\\data\\EE542_Slides\\L06-f23.pdf\n",
      "Started parsing the file under job_id cac11eca-48e8-476e-aad5-1142aed2b89f\n",
      "Loading file .\\data\\EE542_Slides\\L07-f23.pdf\n",
      "Started parsing the file under job_id cac11eca-8a0b-4d78-ac76-6bdd326a78f4\n",
      "Loading file .\\data\\EE542_Slides\\L08-f23.pdf\n",
      "Started parsing the file under job_id cac11eca-5a12-416c-83ca-9deafd64fb6f\n",
      "Loading file .\\data\\EE542_Slides\\L09-f23.pdf\n",
      "Started parsing the file under job_id cac11eca-e4cc-431a-9872-7fbbc4417066\n",
      "Loading file .\\data\\EE542_Slides\\L10-f23.pdf\n",
      "Started parsing the file under job_id cac11eca-d0e8-496f-a017-252fb4e7b374\n",
      "Loading file .\\data\\EE542_Slides\\L11-f23.pdf\n",
      "Started parsing the file under job_id cac11eca-074f-4390-9e42-3e63fdc1748e\n",
      "Loading file .\\data\\EE542_Slides\\L12-f23.pdf\n",
      "Started parsing the file under job_id cac11eca-f0f3-4943-8476-a07772ad06f8\n",
      "Loading file .\\data\\EE542_Slides\\L13-f23.pdf\n",
      "Started parsing the file under job_id cac11eca-7f22-422f-bc9e-2ab5f1bb8c86\n",
      "Loading file .\\data\\EE542_Slides\\L14-f23.pdf\n",
      "Started parsing the file under job_id cac11eca-0b5c-4c72-a85a-dc22b491252c\n",
      "Loading file .\\data\\EE542_Slides\\L15-f23.pdf\n",
      "Started parsing the file under job_id cac11eca-cf24-4666-bd0a-fcb971d4daf0\n",
      "Loading file .\\data\\EE542_Slides\\L16-f23.pdf\n",
      "Started parsing the file under job_id cac11eca-038f-4ea1-b88e-d7cc2ae7ddcf\n",
      "Loading file .\\data\\EE542_Slides\\L17-f23.pdf\n",
      "Started parsing the file under job_id cac11eca-a503-4c4c-8ac3-d5cd25a46f5c\n",
      "Loading file .\\data\\EE542_Slides\\L18-f23.pdf\n",
      "Started parsing the file under job_id cac11eca-a062-48e2-b3a2-ac44f43d34bd\n",
      "Loading file .\\data\\EE542_Slides\\L19-f23.pdf\n",
      "Started parsing the file under job_id cac11eca-7b8c-4c78-8070-89a6fedf5a7e\n",
      "Loading file .\\data\\EE542_Slides\\L1X-Spark.pdf\n",
      "Started parsing the file under job_id cac11eca-4c6c-4e65-aa98-fb8f4bd3c082\n",
      "Loading file .\\data\\EE542_Slides\\L20-f23.pdf\n",
      "Started parsing the file under job_id cac11eca-b855-4caf-ae3d-db26a8a64774\n",
      "Loading file .\\data\\EE542_Slides\\L21-f23.pdf\n",
      "Started parsing the file under job_id cac11eca-ab52-4c7a-b3d3-33994579fb40\n",
      "Loading file .\\data\\EE542_Slides\\L22-f23.pdf\n",
      "Started parsing the file under job_id cac11eca-cd5d-4683-8c4f-a860b36e3090\n",
      "Loading file .\\data\\EE542_Slides\\L23a-f23.pdf\n",
      "Started parsing the file under job_id cac11eca-7343-4a62-8557-ddd7b9b0ab22\n",
      "Loading file .\\data\\EE542_Slides\\L23b-f23.pdf\n",
      "Started parsing the file under job_id cac11eca-8a30-4bc4-b64a-3e68cecdedb7\n",
      "Loading file .\\data\\EE542_Slides\\L24-f23.pdf\n",
      "Started parsing the file under job_id cac11eca-3c2f-46b5-93f3-61c40a40ba65\n",
      "Loading file .\\data\\EE542_Slides\\L25-f23.pdf\n",
      "Started parsing the file under job_id cac11eca-acef-4103-8374-db61decb3bc7\n",
      "Loading file .\\data\\EE542_Slides\\lab1-f23.pdf\n",
      "Started parsing the file under job_id cac11eca-5622-4d3a-8730-7ee36f2d6597\n",
      "Loading file .\\data\\EE542_Slides\\lab10-f23.pdf\n",
      "Started parsing the file under job_id cac11eca-30f7-4333-b4ce-56e7cba213ed\n",
      "Loading file .\\data\\EE542_Slides\\lab2-f23.pdf\n",
      "Started parsing the file under job_id cac11eca-0f6b-4ada-9e99-ebb1eea69203\n",
      "Loading file .\\data\\EE542_Slides\\lab3-f23.pdf\n",
      "Started parsing the file under job_id cac11eca-b478-446c-bba2-d100c97e1141\n",
      "Loading file .\\data\\EE542_Slides\\lab4-f23.pdf\n",
      "Started parsing the file under job_id cac11eca-a49b-498b-b37c-7ff1bf095c7c\n",
      "Loading file .\\data\\EE542_Slides\\lab5-f23.pdf\n",
      "Started parsing the file under job_id cac11eca-aa77-46b5-a785-3aec1efc17ec\n",
      "Loading file .\\data\\EE542_Slides\\lab6-f23.pdf\n",
      "Started parsing the file under job_id cac11eca-655c-4f05-b836-8d1d734071d3\n",
      "Loading file .\\data\\EE542_Slides\\lab7-f23.pdf\n",
      "Started parsing the file under job_id cac11eca-1d09-436a-b863-f4c42ee92531\n",
      "Loading file .\\data\\EE542_Slides\\lab8-f23.pdf\n",
      "Started parsing the file under job_id cac11eca-71cf-48dc-9ba2-78a0077e8383\n",
      "Loading file .\\data\\EE542_Slides\\lab9-f23.pdf\n",
      "Started parsing the file under job_id cac11eca-f80e-40fd-acae-b810a2cfed8f\n",
      "Loading file .\\data\\EE542_Slides\\xDot_examples_20230130.pdf\n",
      "Started parsing the file under job_id cac11eca-6204-4847-80d7-af00feebbacd\n"
     ]
    }
   ],
   "source": [
    "# Example usage\n",
    "folder_path = '.\\\\data\\\\EE542_Slides'\n",
    "documents_single = await load_pdfs_directory(folder_path)"
   ]
  },
  {
   "cell_type": "markdown",
   "metadata": {},
   "source": [
    "### Creating and Saving the index locally"
   ]
  },
  {
   "cell_type": "code",
   "execution_count": 74,
   "metadata": {},
   "outputs": [],
   "source": [
    "index = VectorStoreIndex.from_documents(documents_single)\n",
    "index.storage_context.persist(persist_dir='index/pdf')"
   ]
  },
  {
   "cell_type": "markdown",
   "metadata": {},
   "source": [
    "### Query Pipeline"
   ]
  },
  {
   "cell_type": "code",
   "execution_count": 75,
   "metadata": {},
   "outputs": [],
   "source": [
    "from llama_index.core.query_pipeline import QueryPipeline\n",
    "from llama_index.core import PromptTemplate\n",
    "from pydantic import BaseModel, Field\n",
    "from llama_index.core.output_parsers import PydanticOutputParser\n",
    "from llama_index.llms.openai import OpenAI\n",
    "from llama_index.core.memory import ChatMemoryBuffer"
   ]
  },
  {
   "cell_type": "code",
   "execution_count": 76,
   "metadata": {},
   "outputs": [],
   "source": [
    "class AnswerFormat(BaseModel):\n",
    "    \"\"\"Object representing a single knowledge pdf file.\"\"\"\n",
    "\n",
    "    answer: str = Field(..., description=\"Your Answer to the given question\")\n",
    "    file_name: str = Field(..., description=\"PDF file's file name where the answer can be found, fill in with empty string if you couldn't find it\")\n",
    "    page_number: int = Field(..., description=\"Page number where the answer can be found, fill in with 0 if you couldn't find it\")\n",
    "\n",
    "output_parser = PydanticOutputParser(AnswerFormat)\n",
    "json_prompt_str = \"\"\"\\\n",
    "Please answer the following question according to the context given to you, don't answer if you can't find it in the context.\n",
    "{question}\n",
    "Then please output with the following JSON format:\n",
    "\"\"\"\n",
    "json_prompt_str = output_parser.format(json_prompt_str)"
   ]
  },
  {
   "cell_type": "code",
   "execution_count": 103,
   "metadata": {},
   "outputs": [],
   "source": [
    "llm = OpenAI(model=\"gpt-4o\")\n",
    "json_prompt_tmpl = PromptTemplate(json_prompt_str)\n",
    "memory = ChatMemoryBuffer.from_defaults(token_limit=3000)\n",
    "query_engine = index.as_query_engine(similarity_top_k=10)\n",
    "# chat_engine = index.as_chat_engine(\n",
    "#     chat_mode=\"context\",\n",
    "#     memory=memory,\n",
    "#     system_prompt=(\n",
    "#         \"You are a chatbot assistant helping a user with their questions. \"\n",
    "#         \"You are only allowed to provide information that is inside the context given to you. \"\n",
    "#     ),\n",
    "# )\n",
    "p = QueryPipeline(chain=[json_prompt_tmpl, query_engine, output_parser], verbose=True)"
   ]
  },
  {
   "cell_type": "code",
   "execution_count": 100,
   "metadata": {},
   "outputs": [
    {
     "name": "stdout",
     "output_type": "stream",
     "text": [
      "\u001b[1;3;38;2;155;135;227m> Running module 6e19b24e-a2e6-4db2-a609-8e0b4b4f7ca2 with input: \n",
      "question: Internet Security History\n",
      "\n",
      "\u001b[0m\u001b[1;3;38;2;155;135;227m> Running module 5c604f80-b64b-43f9-bf5c-358db07963b3 with input: \n",
      "input: Please answer the following question according to the context given to you, don't answer if you can't find it in the context.\n",
      "Internet Security History\n",
      "Then please output with the following JSON forma...\n",
      "\n",
      "\u001b[0m\u001b[1;3;38;2;155;135;227m> Running module c603e46b-4e43-4dbc-a7f6-27bee8b6bc7f with input: \n",
      "input: {\n",
      "  \"answer\": \"Robert Tappan Morris launched a worm that had a major impact, causing targeted machines to slow dramatically from resource starvation. He was arrested, found guilty, and sentenced to co...\n",
      "\n",
      "\u001b[0mRobert Tappan Morris launched a worm that had a major impact, causing targeted machines to slow dramatically from resource starvation. He was arrested, found guilty, and sentenced to community service and a fine. Today, he is a tenured professor at MIT and co-founder of a venture incubator.\n",
      "L24-f23.pdf\n",
      "2\n"
     ]
    }
   ],
   "source": [
    "output = p.run(question=\"Internet Security History\")\n",
    "print(output.answer)\n",
    "print(output.file_name)\n",
    "print(output.page_number)"
   ]
  }
 ],
 "metadata": {
  "kernelspec": {
   "display_name": "EE641",
   "language": "python",
   "name": "python3"
  },
  "language_info": {
   "codemirror_mode": {
    "name": "ipython",
    "version": 3
   },
   "file_extension": ".py",
   "mimetype": "text/x-python",
   "name": "python",
   "nbconvert_exporter": "python",
   "pygments_lexer": "ipython3",
   "version": "3.12.3"
  }
 },
 "nbformat": 4,
 "nbformat_minor": 2
}
