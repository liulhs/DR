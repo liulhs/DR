{
 "cells": [
  {
   "cell_type": "code",
   "execution_count": 29,
   "metadata": {},
   "outputs": [],
   "source": [
    "import os\n",
    "from pydub import AudioSegment\n",
    "import whisper\n",
    "from datetime import timedelta\n",
    "import math"
   ]
  },
  {
   "cell_type": "code",
   "execution_count": 30,
   "metadata": {},
   "outputs": [],
   "source": [
    "def chunk_audio(file_path, chunk_length_ms=60000):\n",
    "    audio = AudioSegment.from_file(file_path, format=\"mp3\")\n",
    "    length_audio = len(audio)\n",
    "    chunks = []\n",
    "    for i in range(0, length_audio, chunk_length_ms):\n",
    "        chunks.append(audio[i:i+chunk_length_ms])\n",
    "    return chunks\n",
    "\n",
    "def format_time(seconds):\n",
    "    rounded_seconds = math.ceil(seconds)  # Round up the seconds\n",
    "    return str(timedelta(seconds=rounded_seconds))\n",
    "\n",
    "def process_transcription(result):\n",
    "    segments = result['segments']\n",
    "    formatted_sentences = []\n",
    "    for segment in segments:\n",
    "        start = format_time(segment['start'])\n",
    "        text = segment['text']\n",
    "        formatted_sentences.append(f'[{start}] {text}')\n",
    "    return formatted_sentences\n",
    "\n",
    "def transcribe_chunk(chunk, model, elapsed_seconds):\n",
    "    chunk.export(\"temp_chunk.mp3\", format=\"mp3\")\n",
    "    result = model.transcribe(\"temp_chunk.mp3\")\n",
    "    os.remove(\"temp_chunk.mp3\")\n",
    "\n",
    "    # Adjust segment times based on the elapsed time\n",
    "    for segment in result['segments']:\n",
    "        segment['start'] += elapsed_seconds\n",
    "        segment['end'] += elapsed_seconds\n",
    "\n",
    "    # Update the elapsed time for the next chunk\n",
    "    last_segment = result['segments'][-1] if result['segments'] else {'end': 0}\n",
    "    new_elapsed_seconds = last_segment['end']\n",
    "\n",
    "    return result, new_elapsed_seconds\n",
    "\n",
    "def transcribe_audio(file_path, chunk_length_ms=60000):\n",
    "    model = whisper.load_model(\"base\")\n",
    "    audio_chunks = chunk_audio(file_path, chunk_length_ms)\n",
    "    directory = os.path.dirname(file_path)\n",
    "    output_file = os.path.join(directory, \"transcription_output.txt\")\n",
    "    \n",
    "    elapsed_seconds = 0  # Initialize elapsed time\n",
    "    with open(output_file, 'w') as f:\n",
    "        for i, chunk in enumerate(audio_chunks):\n",
    "            try:\n",
    "                print(f\"Transcribing chunk {i+1}/{len(audio_chunks)}...\")\n",
    "                result, elapsed_seconds = transcribe_chunk(chunk, model, elapsed_seconds)\n",
    "                sentences = process_transcription(result)\n",
    "                for sentence in sentences:\n",
    "                    f.write(sentence + '\\n\\n')\n",
    "            except Exception as e:\n",
    "                print(f\"Error transcribing chunk {i+1}: {e}\")"
   ]
  },
  {
   "cell_type": "code",
   "execution_count": 31,
   "metadata": {},
   "outputs": [
    {
     "name": "stdout",
     "output_type": "stream",
     "text": [
      "Transcribing chunk 1/9...\n",
      "Transcribing chunk 2/9...\n",
      "Transcribing chunk 3/9...\n",
      "Transcribing chunk 4/9...\n",
      "Transcribing chunk 5/9...\n",
      "Transcribing chunk 6/9...\n",
      "Transcribing chunk 7/9...\n",
      "Transcribing chunk 8/9...\n",
      "Transcribing chunk 9/9...\n"
     ]
    }
   ],
   "source": [
    "path_to_mp3 = \"/home/jason/Desktop/Study/DR/SampleAudio/TED.mp3\"\n",
    "transcribe_audio(path_to_mp3)"
   ]
  },
  {
   "cell_type": "code",
   "execution_count": null,
   "metadata": {},
   "outputs": [],
   "source": []
  }
 ],
 "metadata": {
  "kernelspec": {
   "display_name": "llama",
   "language": "python",
   "name": "python3"
  },
  "language_info": {
   "codemirror_mode": {
    "name": "ipython",
    "version": 3
   },
   "file_extension": ".py",
   "mimetype": "text/x-python",
   "name": "python",
   "nbconvert_exporter": "python",
   "pygments_lexer": "ipython3",
   "version": "3.10.13"
  }
 },
 "nbformat": 4,
 "nbformat_minor": 2
}
