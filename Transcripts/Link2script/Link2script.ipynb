{
 "cells": [
  {
   "cell_type": "code",
   "execution_count": 2,
   "metadata": {},
   "outputs": [],
   "source": [
    "from pytube import YouTube\n",
    "from pathlib import Path\n",
    "from autotranscribe import transcribe_to_file"
   ]
  },
  {
   "cell_type": "code",
   "execution_count": 4,
   "metadata": {},
   "outputs": [],
   "source": [
    "def download_youtube_video(url, path='./'):\n",
    "    try:\n",
    "        yt = YouTube(url)\n",
    "        stream = yt.streams.filter(file_extension='mp4').get_highest_resolution()\n",
    "        stream.download(output_path=path)\n",
    "        return yt.title  # Return only the video title\n",
    "    except Exception as e:\n",
    "        raise Exception(f\"Failed to download video: {e}\")"
   ]
  },
  {
   "cell_type": "code",
   "execution_count": 5,
   "metadata": {},
   "outputs": [],
   "source": [
    "def URL2Script(youtube_url, output_folder_path):\n",
    "    try:\n",
    "        print(\"Downloading the video...\")\n",
    "        video_title = download_youtube_video(youtube_url, output_folder_path)\n",
    "        video_file_path = Path(output_folder_path) / f\"{video_title}.mp4\"\n",
    "        \n",
    "        print(\"Transcribing the video...\")\n",
    "        transcribe_to_file(str(video_file_path), output_folder_path)\n",
    "        \n",
    "        print(\"Cleaning up temporary files...\")\n",
    "        video_file_path.unlink()  # Remove the downloaded MP4 file\n",
    "        \n",
    "        temp_audio_path = Path(output_folder_path) / \"temp_audio.mp3\"\n",
    "        if temp_audio_path.exists():\n",
    "            temp_audio_path.unlink()\n",
    "            \n",
    "        print(\"Transcription complete. Output files saved.\")\n",
    "    except Exception as e:\n",
    "        print(f\"An error occurred during processing: {e}\")"
   ]
  },
  {
   "cell_type": "code",
   "execution_count": 6,
   "metadata": {},
   "outputs": [
    {
     "name": "stdout",
     "output_type": "stream",
     "text": [
      "Downloading the video...\n",
      "Transcribing the video...\n",
      "Transcribing chunk 1...\n",
      "Transcribing chunk 2...\n",
      "Transcribing chunk 3...\n",
      "Transcribing chunk 4...\n",
      "Transcribing chunk 5...\n",
      "Transcribing chunk 6...\n",
      "Transcribing chunk 7...\n",
      "Transcribing chunk 8...\n",
      "Transcribing chunk 9...\n",
      "Transcribing chunk 10...\n",
      "Transcribing chunk 11...\n",
      "Transcribing chunk 12...\n",
      "Transcribing chunk 13...\n",
      "Transcribing chunk 14...\n",
      "Transcribing chunk 15...\n",
      "Transcribing chunk 16...\n",
      "Transcribing chunk 17...\n",
      "Transcribing chunk 18...\n",
      "Transcribing chunk 19...\n",
      "Transcribing chunk 20...\n",
      "Transcribing chunk 21...\n",
      "Transcribing chunk 22...\n",
      "Transcribing chunk 23...\n",
      "Cleaning up temporary files...\n",
      "Transcription complete. Output files saved.\n"
     ]
    }
   ],
   "source": [
    "# Example usage (commented out):\n",
    "URL2Script(\"https://www.youtube.com/watch?v=G2fqAlgmoPo\", \"../output\")"
   ]
  },
  {
   "cell_type": "code",
   "execution_count": null,
   "metadata": {},
   "outputs": [],
   "source": []
  }
 ],
 "metadata": {
  "kernelspec": {
   "display_name": "EE541",
   "language": "python",
   "name": "python3"
  },
  "language_info": {
   "codemirror_mode": {
    "name": "ipython",
    "version": 3
   },
   "file_extension": ".py",
   "mimetype": "text/x-python",
   "name": "python",
   "nbconvert_exporter": "python",
   "pygments_lexer": "ipython3",
   "version": "3.9.17"
  }
 },
 "nbformat": 4,
 "nbformat_minor": 2
}
