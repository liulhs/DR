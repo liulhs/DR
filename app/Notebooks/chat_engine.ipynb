{
 "cells": [
  {
   "cell_type": "code",
   "execution_count": 1,
   "metadata": {},
   "outputs": [],
   "source": [
    "from llama_index.core import VectorStoreIndex, SimpleDirectoryReader\n",
    "from llama_index.core import StorageContext, load_index_from_storage\n",
    "from llama_index.embeddings.huggingface import HuggingFaceEmbedding\n",
    "from llama_index.core import Settings\n",
    "from llama_index.core.memory import ChatMemoryBuffer\n",
    "from llama_index.llms.openai import OpenAI"
   ]
  },
  {
   "cell_type": "code",
   "execution_count": 5,
   "metadata": {},
   "outputs": [],
   "source": [
    "Settings.embed_model = HuggingFaceEmbedding(\n",
    "    model_name=\"BAAI/bge-m3\"\n",
    ")\n",
    "storage_context = StorageContext.from_defaults(persist_dir=\"../index\")\n",
    "index = load_index_from_storage(storage_context)\n",
    "memory = ChatMemoryBuffer.from_defaults(token_limit=5000000)\n",
    "llm = OpenAI(model=\"gpt-4\")"
   ]
  },
  {
   "cell_type": "code",
   "execution_count": 10,
   "metadata": {},
   "outputs": [],
   "source": [
    "chat_engine = index.as_chat_engine(\n",
    "    chat_mode=\"condense_plus_context\",\n",
    "    llm=llm,\n",
    "    memory=memory,\n",
    "    system_prompt=(\n",
    "        \"You are a chatbot assistant helping a user with their questions. \"\n",
    "        \"You are only allowed to provide information that is inside the context given to you. \"\n",
    "        \"The context given is a transcript of a video. You are given the link to the video. \"\n",
    "        \"First answer the user's question, then provide the timestamp in the video where the answer can be found. \"\n",
    "        \"Convert the timestamp into seconds, for example, 1 minute and 30 seconds should be converted to 90 seconds. \"\n",
    "        \"Then, add converted seconds with &t=<seconds> at the end of the video link. \"\n",
    "        \"The anser is structured as Answer: <answer>, Link with timestamp: <link>.\"\n",
    "    ),\n",
    ")"
   ]
  },
  {
   "cell_type": "code",
   "execution_count": 11,
   "metadata": {},
   "outputs": [
    {
     "name": "stdout",
     "output_type": "stream",
     "text": [
      "Hello! How can I assist you today?\n",
      "Answer: This course is an introduction to machine learning, a subfield of artificial intelligence. It is designed to be practical and focuses on making predictions or decisions that improve with experience. The course covers different types of learning problems, including supervised learning, classification problems, regression problems, and unsupervised learning. It also discusses the challenges of problems that are difficult to describe explicitly, such as face detection or movie preference prediction.\n",
      "\n",
      "Link with timestamp: https://www.youtube.com/watch?v=qPhMX0vb6D8&t=0\n",
      "Answer: The dimensionality of the input can be reduced using techniques like Principal Components Analysis (PCA) and Singular Value Decomposition (SVD). These techniques help in compressing the data and describing it using fewer values. For example, if we have a vector of 500 stock price changes, instead of describing it with 500 real values per day, we can explore the structure of the data and use fewer values to describe most of the changes in the prices. This can be achieved by designing an algorithm that can tell which elements of the data vector are changing together and exploit that to describe them using only a smaller number of real values.\n",
      "\n",
      "Link with timestamp: https://www.youtube.com/watch?v=F-nfsSq42ow&t=60\n",
      "Answer: Supervised learning is a type of machine learning where training data with correct answers is provided. It involves prediction problems in which we're given examples of what our function should output in a number of instances, taken in the form of training data with input features and labeled desired output values. On the other hand, unsupervised learning is a type of machine learning where the goal is to understand the data and its structure without a specific signal to predict. Using only these kinds of data, unsupervised learning techniques can organize the data automatically.\n",
      "\n",
      "Link with timestamp: https://www.youtube.com/watch?v=qPhMX0vb6D8&t=282\n"
     ]
    }
   ],
   "source": [
    "while True:\n",
    "    user_input = input(\"User: \")\n",
    "    if user_input == \"quit\":\n",
    "        break\n",
    "    response = chat_engine.chat(user_input)\n",
    "    print(response)"
   ]
  },
  {
   "cell_type": "code",
   "execution_count": null,
   "metadata": {},
   "outputs": [],
   "source": []
  }
 ],
 "metadata": {
  "kernelspec": {
   "display_name": "llama",
   "language": "python",
   "name": "python3"
  },
  "language_info": {
   "codemirror_mode": {
    "name": "ipython",
    "version": 3
   },
   "file_extension": ".py",
   "mimetype": "text/x-python",
   "name": "python",
   "nbconvert_exporter": "python",
   "pygments_lexer": "ipython3",
   "version": "3.10.13"
  }
 },
 "nbformat": 4,
 "nbformat_minor": 2
}
