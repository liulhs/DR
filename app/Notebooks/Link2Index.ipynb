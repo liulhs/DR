{
 "cells": [
  {
   "cell_type": "code",
   "execution_count": 4,
   "metadata": {},
   "outputs": [],
   "source": [
    "from Link2Script import URL2Script\n",
    "from transcript_embed import create_index\n",
    "from pathlib import Path"
   ]
  },
  {
   "cell_type": "code",
   "execution_count": 5,
   "metadata": {},
   "outputs": [],
   "source": [
    "def URL2Index(youtube_url, output_folder_path, index_folder, model_name=\"BAAI/bge-m3\"):\n",
    "    video_title = URL2Script(youtube_url, output_folder_path)\n",
    "    if video_title:\n",
    "        txt_file_path = Path(output_folder_path) / f\"{video_title}.txt\"\n",
    "        create_index(str(txt_file_path), index_folder, youtube_url, model_name)\n",
    "        print(\"Index creation complete.\")\n",
    "    else:\n",
    "        print(\"Failed to download and transcribe video. Index creation aborted.\")"
   ]
  },
  {
   "cell_type": "code",
   "execution_count": 6,
   "metadata": {},
   "outputs": [
    {
     "name": "stdout",
     "output_type": "stream",
     "text": [
      "Downloading the video...\n"
     ]
    },
    {
     "ename": "KeyboardInterrupt",
     "evalue": "",
     "output_type": "error",
     "traceback": [
      "\u001b[0;31m---------------------------------------------------------------------------\u001b[0m",
      "\u001b[0;31mKeyboardInterrupt\u001b[0m                         Traceback (most recent call last)",
      "Cell \u001b[0;32mIn[6], line 1\u001b[0m\n\u001b[0;32m----> 1\u001b[0m \u001b[43mURL2Index\u001b[49m\u001b[43m(\u001b[49m\u001b[38;5;124;43m'\u001b[39;49m\u001b[38;5;124;43mhttps://youtu.be/mfqmoUN-Cuw?si=aZ0vSm0yRafT2eMd\u001b[39;49m\u001b[38;5;124;43m'\u001b[39;49m\u001b[43m,\u001b[49m\u001b[43m \u001b[49m\u001b[38;5;124;43m'\u001b[39;49m\u001b[38;5;124;43m./Transcripts/CS273A\u001b[39;49m\u001b[38;5;124;43m'\u001b[39;49m\u001b[43m,\u001b[49m\u001b[43m \u001b[49m\u001b[38;5;124;43m'\u001b[39;49m\u001b[38;5;124;43m./index\u001b[39;49m\u001b[38;5;124;43m'\u001b[39;49m\u001b[43m)\u001b[49m\n",
      "Cell \u001b[0;32mIn[5], line 2\u001b[0m, in \u001b[0;36mURL2Index\u001b[0;34m(youtube_url, output_folder_path, index_folder, model_name)\u001b[0m\n\u001b[1;32m      1\u001b[0m \u001b[38;5;28;01mdef\u001b[39;00m \u001b[38;5;21mURL2Index\u001b[39m(youtube_url, output_folder_path, index_folder, model_name\u001b[38;5;241m=\u001b[39m\u001b[38;5;124m\"\u001b[39m\u001b[38;5;124mBAAI/bge-m3\u001b[39m\u001b[38;5;124m\"\u001b[39m):\n\u001b[0;32m----> 2\u001b[0m     video_title \u001b[38;5;241m=\u001b[39m \u001b[43mURL2Script\u001b[49m\u001b[43m(\u001b[49m\u001b[43myoutube_url\u001b[49m\u001b[43m,\u001b[49m\u001b[43m \u001b[49m\u001b[43moutput_folder_path\u001b[49m\u001b[43m)\u001b[49m\n\u001b[1;32m      3\u001b[0m     \u001b[38;5;28;01mif\u001b[39;00m video_title:\n\u001b[1;32m      4\u001b[0m         txt_file_path \u001b[38;5;241m=\u001b[39m Path(output_folder_path) \u001b[38;5;241m/\u001b[39m \u001b[38;5;124mf\u001b[39m\u001b[38;5;124m\"\u001b[39m\u001b[38;5;132;01m{\u001b[39;00mvideo_title\u001b[38;5;132;01m}\u001b[39;00m\u001b[38;5;124m.txt\u001b[39m\u001b[38;5;124m\"\u001b[39m\n",
      "File \u001b[0;32m~/Desktop/Study/DR/app/Link2Script.py:25\u001b[0m, in \u001b[0;36mURL2Script\u001b[0;34m(youtube_url, output_folder_path)\u001b[0m\n\u001b[1;32m     23\u001b[0m \u001b[38;5;28;01mtry\u001b[39;00m:\n\u001b[1;32m     24\u001b[0m     \u001b[38;5;28mprint\u001b[39m(\u001b[38;5;124m\"\u001b[39m\u001b[38;5;124mDownloading the video...\u001b[39m\u001b[38;5;124m\"\u001b[39m)\n\u001b[0;32m---> 25\u001b[0m     video_filename \u001b[38;5;241m=\u001b[39m \u001b[43mdownload_youtube_video\u001b[49m\u001b[43m(\u001b[49m\u001b[43myoutube_url\u001b[49m\u001b[43m,\u001b[49m\u001b[43m \u001b[49m\u001b[43moutput_folder_path\u001b[49m\u001b[43m)\u001b[49m\n\u001b[1;32m     26\u001b[0m     video_file_path \u001b[38;5;241m=\u001b[39m Path(output_folder_path) \u001b[38;5;241m/\u001b[39m video_filename\n\u001b[1;32m     27\u001b[0m     video_title \u001b[38;5;241m=\u001b[39m video_filename\u001b[38;5;241m.\u001b[39mrsplit(\u001b[38;5;124m'\u001b[39m\u001b[38;5;124m.\u001b[39m\u001b[38;5;124m'\u001b[39m, \u001b[38;5;241m1\u001b[39m)[\u001b[38;5;241m0\u001b[39m]  \u001b[38;5;66;03m# Remove the file extension\u001b[39;00m\n",
      "File \u001b[0;32m~/Desktop/Study/DR/app/Link2Script.py:17\u001b[0m, in \u001b[0;36mdownload_youtube_video\u001b[0;34m(url, path)\u001b[0m\n\u001b[1;32m     15\u001b[0m     filename \u001b[38;5;241m=\u001b[39m \u001b[38;5;124mf\u001b[39m\u001b[38;5;124m\"\u001b[39m\u001b[38;5;132;01m{\u001b[39;00mtitle\u001b[38;5;132;01m}\u001b[39;00m\u001b[38;5;124m.mp4\u001b[39m\u001b[38;5;124m\"\u001b[39m\n\u001b[1;32m     16\u001b[0m     \u001b[38;5;66;03m# Specify the output filename directly\u001b[39;00m\n\u001b[0;32m---> 17\u001b[0m     \u001b[43mstream\u001b[49m\u001b[38;5;241;43m.\u001b[39;49m\u001b[43mdownload\u001b[49m\u001b[43m(\u001b[49m\u001b[43moutput_path\u001b[49m\u001b[38;5;241;43m=\u001b[39;49m\u001b[43mpath\u001b[49m\u001b[43m,\u001b[49m\u001b[43m \u001b[49m\u001b[43mfilename\u001b[49m\u001b[38;5;241;43m=\u001b[39;49m\u001b[43mfilename\u001b[49m\u001b[43m)\u001b[49m\n\u001b[1;32m     18\u001b[0m     \u001b[38;5;28;01mreturn\u001b[39;00m filename  \u001b[38;5;66;03m# Return the sanitized title as the filename\u001b[39;00m\n\u001b[1;32m     19\u001b[0m \u001b[38;5;28;01mexcept\u001b[39;00m \u001b[38;5;167;01mException\u001b[39;00m \u001b[38;5;28;01mas\u001b[39;00m e:\n",
      "File \u001b[0;32m~/anaconda3/envs/llama/lib/python3.10/site-packages/pytube/streams.py:309\u001b[0m, in \u001b[0;36mStream.download\u001b[0;34m(self, output_path, filename, filename_prefix, skip_existing, timeout, max_retries)\u001b[0m\n\u001b[1;32m    306\u001b[0m     \u001b[38;5;28mself\u001b[39m\u001b[38;5;241m.\u001b[39mon_complete(file_path)\n\u001b[1;32m    307\u001b[0m     \u001b[38;5;28;01mreturn\u001b[39;00m file_path\n\u001b[0;32m--> 309\u001b[0m bytes_remaining \u001b[38;5;241m=\u001b[39m \u001b[38;5;28;43mself\u001b[39;49m\u001b[38;5;241;43m.\u001b[39;49m\u001b[43mfilesize\u001b[49m\n\u001b[1;32m    310\u001b[0m logger\u001b[38;5;241m.\u001b[39mdebug(\u001b[38;5;124mf\u001b[39m\u001b[38;5;124m'\u001b[39m\u001b[38;5;124mdownloading (\u001b[39m\u001b[38;5;132;01m{\u001b[39;00m\u001b[38;5;28mself\u001b[39m\u001b[38;5;241m.\u001b[39mfilesize\u001b[38;5;132;01m}\u001b[39;00m\u001b[38;5;124m total bytes) file to \u001b[39m\u001b[38;5;132;01m{\u001b[39;00mfile_path\u001b[38;5;132;01m}\u001b[39;00m\u001b[38;5;124m'\u001b[39m)\n\u001b[1;32m    312\u001b[0m \u001b[38;5;28;01mwith\u001b[39;00m \u001b[38;5;28mopen\u001b[39m(file_path, \u001b[38;5;124m\"\u001b[39m\u001b[38;5;124mwb\u001b[39m\u001b[38;5;124m\"\u001b[39m) \u001b[38;5;28;01mas\u001b[39;00m fh:\n",
      "File \u001b[0;32m~/anaconda3/envs/llama/lib/python3.10/site-packages/pytube/streams.py:157\u001b[0m, in \u001b[0;36mStream.filesize\u001b[0;34m(self)\u001b[0m\n\u001b[1;32m    155\u001b[0m \u001b[38;5;28;01mif\u001b[39;00m \u001b[38;5;28mself\u001b[39m\u001b[38;5;241m.\u001b[39m_filesize \u001b[38;5;241m==\u001b[39m \u001b[38;5;241m0\u001b[39m:\n\u001b[1;32m    156\u001b[0m     \u001b[38;5;28;01mtry\u001b[39;00m:\n\u001b[0;32m--> 157\u001b[0m         \u001b[38;5;28mself\u001b[39m\u001b[38;5;241m.\u001b[39m_filesize \u001b[38;5;241m=\u001b[39m \u001b[43mrequest\u001b[49m\u001b[38;5;241;43m.\u001b[39;49m\u001b[43mfilesize\u001b[49m\u001b[43m(\u001b[49m\u001b[38;5;28;43mself\u001b[39;49m\u001b[38;5;241;43m.\u001b[39;49m\u001b[43murl\u001b[49m\u001b[43m)\u001b[49m\n\u001b[1;32m    158\u001b[0m     \u001b[38;5;28;01mexcept\u001b[39;00m HTTPError \u001b[38;5;28;01mas\u001b[39;00m e:\n\u001b[1;32m    159\u001b[0m         \u001b[38;5;28;01mif\u001b[39;00m e\u001b[38;5;241m.\u001b[39mcode \u001b[38;5;241m!=\u001b[39m \u001b[38;5;241m404\u001b[39m:\n",
      "File \u001b[0;32m~/anaconda3/envs/llama/lib/python3.10/site-packages/pytube/request.py:204\u001b[0m, in \u001b[0;36mfilesize\u001b[0;34m(url)\u001b[0m\n\u001b[1;32m    197\u001b[0m \u001b[38;5;129m@lru_cache\u001b[39m()\n\u001b[1;32m    198\u001b[0m \u001b[38;5;28;01mdef\u001b[39;00m \u001b[38;5;21mfilesize\u001b[39m(url):\n\u001b[1;32m    199\u001b[0m \u001b[38;5;250m    \u001b[39m\u001b[38;5;124;03m\"\"\"Fetch size in bytes of file at given URL\u001b[39;00m\n\u001b[1;32m    200\u001b[0m \n\u001b[1;32m    201\u001b[0m \u001b[38;5;124;03m    :param str url: The URL to get the size of\u001b[39;00m\n\u001b[1;32m    202\u001b[0m \u001b[38;5;124;03m    :returns: int: size in bytes of remote file\u001b[39;00m\n\u001b[1;32m    203\u001b[0m \u001b[38;5;124;03m    \"\"\"\u001b[39;00m\n\u001b[0;32m--> 204\u001b[0m     \u001b[38;5;28;01mreturn\u001b[39;00m \u001b[38;5;28mint\u001b[39m(\u001b[43mhead\u001b[49m\u001b[43m(\u001b[49m\u001b[43murl\u001b[49m\u001b[43m)\u001b[49m[\u001b[38;5;124m\"\u001b[39m\u001b[38;5;124mcontent-length\u001b[39m\u001b[38;5;124m\"\u001b[39m])\n",
      "File \u001b[0;32m~/anaconda3/envs/llama/lib/python3.10/site-packages/pytube/request.py:268\u001b[0m, in \u001b[0;36mhead\u001b[0;34m(url)\u001b[0m\n\u001b[1;32m    259\u001b[0m \u001b[38;5;28;01mdef\u001b[39;00m \u001b[38;5;21mhead\u001b[39m(url):\n\u001b[1;32m    260\u001b[0m \u001b[38;5;250m    \u001b[39m\u001b[38;5;124;03m\"\"\"Fetch headers returned http GET request.\u001b[39;00m\n\u001b[1;32m    261\u001b[0m \n\u001b[1;32m    262\u001b[0m \u001b[38;5;124;03m    :param str url:\u001b[39;00m\n\u001b[0;32m   (...)\u001b[0m\n\u001b[1;32m    266\u001b[0m \u001b[38;5;124;03m        dictionary of lowercase headers\u001b[39;00m\n\u001b[1;32m    267\u001b[0m \u001b[38;5;124;03m    \"\"\"\u001b[39;00m\n\u001b[0;32m--> 268\u001b[0m     response_headers \u001b[38;5;241m=\u001b[39m \u001b[43m_execute_request\u001b[49m\u001b[43m(\u001b[49m\u001b[43murl\u001b[49m\u001b[43m,\u001b[49m\u001b[43m \u001b[49m\u001b[43mmethod\u001b[49m\u001b[38;5;241;43m=\u001b[39;49m\u001b[38;5;124;43m\"\u001b[39;49m\u001b[38;5;124;43mHEAD\u001b[39;49m\u001b[38;5;124;43m\"\u001b[39;49m\u001b[43m)\u001b[49m\u001b[38;5;241m.\u001b[39minfo()\n\u001b[1;32m    269\u001b[0m     \u001b[38;5;28;01mreturn\u001b[39;00m {k\u001b[38;5;241m.\u001b[39mlower(): v \u001b[38;5;28;01mfor\u001b[39;00m k, v \u001b[38;5;129;01min\u001b[39;00m response_headers\u001b[38;5;241m.\u001b[39mitems()}\n",
      "File \u001b[0;32m~/anaconda3/envs/llama/lib/python3.10/site-packages/pytube/request.py:37\u001b[0m, in \u001b[0;36m_execute_request\u001b[0;34m(url, method, headers, data, timeout)\u001b[0m\n\u001b[1;32m     35\u001b[0m \u001b[38;5;28;01melse\u001b[39;00m:\n\u001b[1;32m     36\u001b[0m     \u001b[38;5;28;01mraise\u001b[39;00m \u001b[38;5;167;01mValueError\u001b[39;00m(\u001b[38;5;124m\"\u001b[39m\u001b[38;5;124mInvalid URL\u001b[39m\u001b[38;5;124m\"\u001b[39m)\n\u001b[0;32m---> 37\u001b[0m \u001b[38;5;28;01mreturn\u001b[39;00m \u001b[43murlopen\u001b[49m\u001b[43m(\u001b[49m\u001b[43mrequest\u001b[49m\u001b[43m,\u001b[49m\u001b[43m \u001b[49m\u001b[43mtimeout\u001b[49m\u001b[38;5;241;43m=\u001b[39;49m\u001b[43mtimeout\u001b[49m\u001b[43m)\u001b[49m\n",
      "File \u001b[0;32m~/anaconda3/envs/llama/lib/python3.10/urllib/request.py:216\u001b[0m, in \u001b[0;36murlopen\u001b[0;34m(url, data, timeout, cafile, capath, cadefault, context)\u001b[0m\n\u001b[1;32m    214\u001b[0m \u001b[38;5;28;01melse\u001b[39;00m:\n\u001b[1;32m    215\u001b[0m     opener \u001b[38;5;241m=\u001b[39m _opener\n\u001b[0;32m--> 216\u001b[0m \u001b[38;5;28;01mreturn\u001b[39;00m \u001b[43mopener\u001b[49m\u001b[38;5;241;43m.\u001b[39;49m\u001b[43mopen\u001b[49m\u001b[43m(\u001b[49m\u001b[43murl\u001b[49m\u001b[43m,\u001b[49m\u001b[43m \u001b[49m\u001b[43mdata\u001b[49m\u001b[43m,\u001b[49m\u001b[43m \u001b[49m\u001b[43mtimeout\u001b[49m\u001b[43m)\u001b[49m\n",
      "File \u001b[0;32m~/anaconda3/envs/llama/lib/python3.10/urllib/request.py:519\u001b[0m, in \u001b[0;36mOpenerDirector.open\u001b[0;34m(self, fullurl, data, timeout)\u001b[0m\n\u001b[1;32m    516\u001b[0m     req \u001b[38;5;241m=\u001b[39m meth(req)\n\u001b[1;32m    518\u001b[0m sys\u001b[38;5;241m.\u001b[39maudit(\u001b[38;5;124m'\u001b[39m\u001b[38;5;124murllib.Request\u001b[39m\u001b[38;5;124m'\u001b[39m, req\u001b[38;5;241m.\u001b[39mfull_url, req\u001b[38;5;241m.\u001b[39mdata, req\u001b[38;5;241m.\u001b[39mheaders, req\u001b[38;5;241m.\u001b[39mget_method())\n\u001b[0;32m--> 519\u001b[0m response \u001b[38;5;241m=\u001b[39m \u001b[38;5;28;43mself\u001b[39;49m\u001b[38;5;241;43m.\u001b[39;49m\u001b[43m_open\u001b[49m\u001b[43m(\u001b[49m\u001b[43mreq\u001b[49m\u001b[43m,\u001b[49m\u001b[43m \u001b[49m\u001b[43mdata\u001b[49m\u001b[43m)\u001b[49m\n\u001b[1;32m    521\u001b[0m \u001b[38;5;66;03m# post-process response\u001b[39;00m\n\u001b[1;32m    522\u001b[0m meth_name \u001b[38;5;241m=\u001b[39m protocol\u001b[38;5;241m+\u001b[39m\u001b[38;5;124m\"\u001b[39m\u001b[38;5;124m_response\u001b[39m\u001b[38;5;124m\"\u001b[39m\n",
      "File \u001b[0;32m~/anaconda3/envs/llama/lib/python3.10/urllib/request.py:536\u001b[0m, in \u001b[0;36mOpenerDirector._open\u001b[0;34m(self, req, data)\u001b[0m\n\u001b[1;32m    533\u001b[0m     \u001b[38;5;28;01mreturn\u001b[39;00m result\n\u001b[1;32m    535\u001b[0m protocol \u001b[38;5;241m=\u001b[39m req\u001b[38;5;241m.\u001b[39mtype\n\u001b[0;32m--> 536\u001b[0m result \u001b[38;5;241m=\u001b[39m \u001b[38;5;28;43mself\u001b[39;49m\u001b[38;5;241;43m.\u001b[39;49m\u001b[43m_call_chain\u001b[49m\u001b[43m(\u001b[49m\u001b[38;5;28;43mself\u001b[39;49m\u001b[38;5;241;43m.\u001b[39;49m\u001b[43mhandle_open\u001b[49m\u001b[43m,\u001b[49m\u001b[43m \u001b[49m\u001b[43mprotocol\u001b[49m\u001b[43m,\u001b[49m\u001b[43m \u001b[49m\u001b[43mprotocol\u001b[49m\u001b[43m \u001b[49m\u001b[38;5;241;43m+\u001b[39;49m\n\u001b[1;32m    537\u001b[0m \u001b[43m                          \u001b[49m\u001b[38;5;124;43m'\u001b[39;49m\u001b[38;5;124;43m_open\u001b[39;49m\u001b[38;5;124;43m'\u001b[39;49m\u001b[43m,\u001b[49m\u001b[43m \u001b[49m\u001b[43mreq\u001b[49m\u001b[43m)\u001b[49m\n\u001b[1;32m    538\u001b[0m \u001b[38;5;28;01mif\u001b[39;00m result:\n\u001b[1;32m    539\u001b[0m     \u001b[38;5;28;01mreturn\u001b[39;00m result\n",
      "File \u001b[0;32m~/anaconda3/envs/llama/lib/python3.10/urllib/request.py:496\u001b[0m, in \u001b[0;36mOpenerDirector._call_chain\u001b[0;34m(self, chain, kind, meth_name, *args)\u001b[0m\n\u001b[1;32m    494\u001b[0m \u001b[38;5;28;01mfor\u001b[39;00m handler \u001b[38;5;129;01min\u001b[39;00m handlers:\n\u001b[1;32m    495\u001b[0m     func \u001b[38;5;241m=\u001b[39m \u001b[38;5;28mgetattr\u001b[39m(handler, meth_name)\n\u001b[0;32m--> 496\u001b[0m     result \u001b[38;5;241m=\u001b[39m \u001b[43mfunc\u001b[49m\u001b[43m(\u001b[49m\u001b[38;5;241;43m*\u001b[39;49m\u001b[43margs\u001b[49m\u001b[43m)\u001b[49m\n\u001b[1;32m    497\u001b[0m     \u001b[38;5;28;01mif\u001b[39;00m result \u001b[38;5;129;01mis\u001b[39;00m \u001b[38;5;129;01mnot\u001b[39;00m \u001b[38;5;28;01mNone\u001b[39;00m:\n\u001b[1;32m    498\u001b[0m         \u001b[38;5;28;01mreturn\u001b[39;00m result\n",
      "File \u001b[0;32m~/anaconda3/envs/llama/lib/python3.10/urllib/request.py:1391\u001b[0m, in \u001b[0;36mHTTPSHandler.https_open\u001b[0;34m(self, req)\u001b[0m\n\u001b[1;32m   1390\u001b[0m \u001b[38;5;28;01mdef\u001b[39;00m \u001b[38;5;21mhttps_open\u001b[39m(\u001b[38;5;28mself\u001b[39m, req):\n\u001b[0;32m-> 1391\u001b[0m     \u001b[38;5;28;01mreturn\u001b[39;00m \u001b[38;5;28;43mself\u001b[39;49m\u001b[38;5;241;43m.\u001b[39;49m\u001b[43mdo_open\u001b[49m\u001b[43m(\u001b[49m\u001b[43mhttp\u001b[49m\u001b[38;5;241;43m.\u001b[39;49m\u001b[43mclient\u001b[49m\u001b[38;5;241;43m.\u001b[39;49m\u001b[43mHTTPSConnection\u001b[49m\u001b[43m,\u001b[49m\u001b[43m \u001b[49m\u001b[43mreq\u001b[49m\u001b[43m,\u001b[49m\n\u001b[1;32m   1392\u001b[0m \u001b[43m        \u001b[49m\u001b[43mcontext\u001b[49m\u001b[38;5;241;43m=\u001b[39;49m\u001b[38;5;28;43mself\u001b[39;49m\u001b[38;5;241;43m.\u001b[39;49m\u001b[43m_context\u001b[49m\u001b[43m,\u001b[49m\u001b[43m \u001b[49m\u001b[43mcheck_hostname\u001b[49m\u001b[38;5;241;43m=\u001b[39;49m\u001b[38;5;28;43mself\u001b[39;49m\u001b[38;5;241;43m.\u001b[39;49m\u001b[43m_check_hostname\u001b[49m\u001b[43m)\u001b[49m\n",
      "File \u001b[0;32m~/anaconda3/envs/llama/lib/python3.10/urllib/request.py:1352\u001b[0m, in \u001b[0;36mAbstractHTTPHandler.do_open\u001b[0;34m(self, http_class, req, **http_conn_args)\u001b[0m\n\u001b[1;32m   1350\u001b[0m     \u001b[38;5;28;01mexcept\u001b[39;00m \u001b[38;5;167;01mOSError\u001b[39;00m \u001b[38;5;28;01mas\u001b[39;00m err: \u001b[38;5;66;03m# timeout error\u001b[39;00m\n\u001b[1;32m   1351\u001b[0m         \u001b[38;5;28;01mraise\u001b[39;00m URLError(err)\n\u001b[0;32m-> 1352\u001b[0m     r \u001b[38;5;241m=\u001b[39m \u001b[43mh\u001b[49m\u001b[38;5;241;43m.\u001b[39;49m\u001b[43mgetresponse\u001b[49m\u001b[43m(\u001b[49m\u001b[43m)\u001b[49m\n\u001b[1;32m   1353\u001b[0m \u001b[38;5;28;01mexcept\u001b[39;00m:\n\u001b[1;32m   1354\u001b[0m     h\u001b[38;5;241m.\u001b[39mclose()\n",
      "File \u001b[0;32m~/anaconda3/envs/llama/lib/python3.10/http/client.py:1375\u001b[0m, in \u001b[0;36mHTTPConnection.getresponse\u001b[0;34m(self)\u001b[0m\n\u001b[1;32m   1373\u001b[0m \u001b[38;5;28;01mtry\u001b[39;00m:\n\u001b[1;32m   1374\u001b[0m     \u001b[38;5;28;01mtry\u001b[39;00m:\n\u001b[0;32m-> 1375\u001b[0m         \u001b[43mresponse\u001b[49m\u001b[38;5;241;43m.\u001b[39;49m\u001b[43mbegin\u001b[49m\u001b[43m(\u001b[49m\u001b[43m)\u001b[49m\n\u001b[1;32m   1376\u001b[0m     \u001b[38;5;28;01mexcept\u001b[39;00m \u001b[38;5;167;01mConnectionError\u001b[39;00m:\n\u001b[1;32m   1377\u001b[0m         \u001b[38;5;28mself\u001b[39m\u001b[38;5;241m.\u001b[39mclose()\n",
      "File \u001b[0;32m~/anaconda3/envs/llama/lib/python3.10/http/client.py:318\u001b[0m, in \u001b[0;36mHTTPResponse.begin\u001b[0;34m(self)\u001b[0m\n\u001b[1;32m    316\u001b[0m \u001b[38;5;66;03m# read until we get a non-100 response\u001b[39;00m\n\u001b[1;32m    317\u001b[0m \u001b[38;5;28;01mwhile\u001b[39;00m \u001b[38;5;28;01mTrue\u001b[39;00m:\n\u001b[0;32m--> 318\u001b[0m     version, status, reason \u001b[38;5;241m=\u001b[39m \u001b[38;5;28;43mself\u001b[39;49m\u001b[38;5;241;43m.\u001b[39;49m\u001b[43m_read_status\u001b[49m\u001b[43m(\u001b[49m\u001b[43m)\u001b[49m\n\u001b[1;32m    319\u001b[0m     \u001b[38;5;28;01mif\u001b[39;00m status \u001b[38;5;241m!=\u001b[39m CONTINUE:\n\u001b[1;32m    320\u001b[0m         \u001b[38;5;28;01mbreak\u001b[39;00m\n",
      "File \u001b[0;32m~/anaconda3/envs/llama/lib/python3.10/http/client.py:279\u001b[0m, in \u001b[0;36mHTTPResponse._read_status\u001b[0;34m(self)\u001b[0m\n\u001b[1;32m    278\u001b[0m \u001b[38;5;28;01mdef\u001b[39;00m \u001b[38;5;21m_read_status\u001b[39m(\u001b[38;5;28mself\u001b[39m):\n\u001b[0;32m--> 279\u001b[0m     line \u001b[38;5;241m=\u001b[39m \u001b[38;5;28mstr\u001b[39m(\u001b[38;5;28;43mself\u001b[39;49m\u001b[38;5;241;43m.\u001b[39;49m\u001b[43mfp\u001b[49m\u001b[38;5;241;43m.\u001b[39;49m\u001b[43mreadline\u001b[49m\u001b[43m(\u001b[49m\u001b[43m_MAXLINE\u001b[49m\u001b[43m \u001b[49m\u001b[38;5;241;43m+\u001b[39;49m\u001b[43m \u001b[49m\u001b[38;5;241;43m1\u001b[39;49m\u001b[43m)\u001b[49m, \u001b[38;5;124m\"\u001b[39m\u001b[38;5;124miso-8859-1\u001b[39m\u001b[38;5;124m\"\u001b[39m)\n\u001b[1;32m    280\u001b[0m     \u001b[38;5;28;01mif\u001b[39;00m \u001b[38;5;28mlen\u001b[39m(line) \u001b[38;5;241m>\u001b[39m _MAXLINE:\n\u001b[1;32m    281\u001b[0m         \u001b[38;5;28;01mraise\u001b[39;00m LineTooLong(\u001b[38;5;124m\"\u001b[39m\u001b[38;5;124mstatus line\u001b[39m\u001b[38;5;124m\"\u001b[39m)\n",
      "File \u001b[0;32m~/anaconda3/envs/llama/lib/python3.10/socket.py:705\u001b[0m, in \u001b[0;36mSocketIO.readinto\u001b[0;34m(self, b)\u001b[0m\n\u001b[1;32m    703\u001b[0m \u001b[38;5;28;01mwhile\u001b[39;00m \u001b[38;5;28;01mTrue\u001b[39;00m:\n\u001b[1;32m    704\u001b[0m     \u001b[38;5;28;01mtry\u001b[39;00m:\n\u001b[0;32m--> 705\u001b[0m         \u001b[38;5;28;01mreturn\u001b[39;00m \u001b[38;5;28;43mself\u001b[39;49m\u001b[38;5;241;43m.\u001b[39;49m\u001b[43m_sock\u001b[49m\u001b[38;5;241;43m.\u001b[39;49m\u001b[43mrecv_into\u001b[49m\u001b[43m(\u001b[49m\u001b[43mb\u001b[49m\u001b[43m)\u001b[49m\n\u001b[1;32m    706\u001b[0m     \u001b[38;5;28;01mexcept\u001b[39;00m timeout:\n\u001b[1;32m    707\u001b[0m         \u001b[38;5;28mself\u001b[39m\u001b[38;5;241m.\u001b[39m_timeout_occurred \u001b[38;5;241m=\u001b[39m \u001b[38;5;28;01mTrue\u001b[39;00m\n",
      "File \u001b[0;32m~/anaconda3/envs/llama/lib/python3.10/ssl.py:1307\u001b[0m, in \u001b[0;36mSSLSocket.recv_into\u001b[0;34m(self, buffer, nbytes, flags)\u001b[0m\n\u001b[1;32m   1303\u001b[0m     \u001b[38;5;28;01mif\u001b[39;00m flags \u001b[38;5;241m!=\u001b[39m \u001b[38;5;241m0\u001b[39m:\n\u001b[1;32m   1304\u001b[0m         \u001b[38;5;28;01mraise\u001b[39;00m \u001b[38;5;167;01mValueError\u001b[39;00m(\n\u001b[1;32m   1305\u001b[0m           \u001b[38;5;124m\"\u001b[39m\u001b[38;5;124mnon-zero flags not allowed in calls to recv_into() on \u001b[39m\u001b[38;5;132;01m%s\u001b[39;00m\u001b[38;5;124m\"\u001b[39m \u001b[38;5;241m%\u001b[39m\n\u001b[1;32m   1306\u001b[0m           \u001b[38;5;28mself\u001b[39m\u001b[38;5;241m.\u001b[39m\u001b[38;5;18m__class__\u001b[39m)\n\u001b[0;32m-> 1307\u001b[0m     \u001b[38;5;28;01mreturn\u001b[39;00m \u001b[38;5;28;43mself\u001b[39;49m\u001b[38;5;241;43m.\u001b[39;49m\u001b[43mread\u001b[49m\u001b[43m(\u001b[49m\u001b[43mnbytes\u001b[49m\u001b[43m,\u001b[49m\u001b[43m \u001b[49m\u001b[43mbuffer\u001b[49m\u001b[43m)\u001b[49m\n\u001b[1;32m   1308\u001b[0m \u001b[38;5;28;01melse\u001b[39;00m:\n\u001b[1;32m   1309\u001b[0m     \u001b[38;5;28;01mreturn\u001b[39;00m \u001b[38;5;28msuper\u001b[39m()\u001b[38;5;241m.\u001b[39mrecv_into(buffer, nbytes, flags)\n",
      "File \u001b[0;32m~/anaconda3/envs/llama/lib/python3.10/ssl.py:1163\u001b[0m, in \u001b[0;36mSSLSocket.read\u001b[0;34m(self, len, buffer)\u001b[0m\n\u001b[1;32m   1161\u001b[0m \u001b[38;5;28;01mtry\u001b[39;00m:\n\u001b[1;32m   1162\u001b[0m     \u001b[38;5;28;01mif\u001b[39;00m buffer \u001b[38;5;129;01mis\u001b[39;00m \u001b[38;5;129;01mnot\u001b[39;00m \u001b[38;5;28;01mNone\u001b[39;00m:\n\u001b[0;32m-> 1163\u001b[0m         \u001b[38;5;28;01mreturn\u001b[39;00m \u001b[38;5;28;43mself\u001b[39;49m\u001b[38;5;241;43m.\u001b[39;49m\u001b[43m_sslobj\u001b[49m\u001b[38;5;241;43m.\u001b[39;49m\u001b[43mread\u001b[49m\u001b[43m(\u001b[49m\u001b[38;5;28;43mlen\u001b[39;49m\u001b[43m,\u001b[49m\u001b[43m \u001b[49m\u001b[43mbuffer\u001b[49m\u001b[43m)\u001b[49m\n\u001b[1;32m   1164\u001b[0m     \u001b[38;5;28;01melse\u001b[39;00m:\n\u001b[1;32m   1165\u001b[0m         \u001b[38;5;28;01mreturn\u001b[39;00m \u001b[38;5;28mself\u001b[39m\u001b[38;5;241m.\u001b[39m_sslobj\u001b[38;5;241m.\u001b[39mread(\u001b[38;5;28mlen\u001b[39m)\n",
      "\u001b[0;31mKeyboardInterrupt\u001b[0m: "
     ]
    }
   ],
   "source": [
    "URL2Index('https://youtu.be/mfqmoUN-Cuw?si=aZ0vSm0yRafT2eMd', './Transcripts/CS273A', './index')"
   ]
  },
  {
   "cell_type": "code",
   "execution_count": 12,
   "metadata": {},
   "outputs": [
    {
     "name": "stdout",
     "output_type": "stream",
     "text": [
      "Downloading the video...\n",
      "Transcribing the video...\n",
      "Transcribing chunk 1...\n",
      "Transcribing chunk 2...\n",
      "Transcribing chunk 3...\n",
      "Transcribing chunk 4...\n",
      "Transcribing chunk 5...\n",
      "Transcribing chunk 6...\n",
      "Transcribing chunk 7...\n",
      "Cleaning up temporary files...\n",
      "Transcription complete. Output files saved.\n"
     ]
    },
    {
     "name": "stderr",
     "output_type": "stream",
     "text": [
      "/home/jason/anaconda3/envs/llama/lib/python3.10/site-packages/huggingface_hub/file_download.py:1132: FutureWarning: `resume_download` is deprecated and will be removed in version 1.0.0. Downloads always resume when possible. If you want to force a new download, use `force_download=True`.\n",
      "  warnings.warn(\n"
     ]
    },
    {
     "name": "stdout",
     "output_type": "stream",
     "text": [
      "Index creation complete.\n",
      "Downloading the video...\n",
      "Transcribing the video...\n",
      "Transcribing chunk 1...\n",
      "Transcribing chunk 2...\n",
      "Transcribing chunk 3...\n",
      "Transcribing chunk 4...\n",
      "Transcribing chunk 5...\n",
      "Transcribing chunk 6...\n",
      "Transcribing chunk 7...\n",
      "Transcribing chunk 8...\n",
      "Transcribing chunk 9...\n",
      "Cleaning up temporary files...\n",
      "Transcription complete. Output files saved.\n"
     ]
    },
    {
     "name": "stderr",
     "output_type": "stream",
     "text": [
      "/home/jason/anaconda3/envs/llama/lib/python3.10/site-packages/huggingface_hub/file_download.py:1132: FutureWarning: `resume_download` is deprecated and will be removed in version 1.0.0. Downloads always resume when possible. If you want to force a new download, use `force_download=True`.\n",
      "  warnings.warn(\n"
     ]
    },
    {
     "name": "stdout",
     "output_type": "stream",
     "text": [
      "Index creation complete.\n",
      "Downloading the video...\n",
      "Transcribing the video...\n",
      "Transcribing chunk 1...\n",
      "Transcribing chunk 2...\n",
      "Transcribing chunk 3...\n",
      "Transcribing chunk 4...\n",
      "Transcribing chunk 5...\n",
      "Transcribing chunk 6...\n",
      "Transcribing chunk 7...\n",
      "Transcribing chunk 8...\n",
      "Transcribing chunk 9...\n",
      "Transcribing chunk 10...\n",
      "Cleaning up temporary files...\n",
      "Transcription complete. Output files saved.\n"
     ]
    },
    {
     "name": "stderr",
     "output_type": "stream",
     "text": [
      "/home/jason/anaconda3/envs/llama/lib/python3.10/site-packages/huggingface_hub/file_download.py:1132: FutureWarning: `resume_download` is deprecated and will be removed in version 1.0.0. Downloads always resume when possible. If you want to force a new download, use `force_download=True`.\n",
      "  warnings.warn(\n"
     ]
    },
    {
     "name": "stdout",
     "output_type": "stream",
     "text": [
      "Index creation complete.\n",
      "Downloading the video...\n",
      "Transcribing the video...\n",
      "Transcribing chunk 1...\n",
      "Transcribing chunk 2...\n",
      "Transcribing chunk 3...\n",
      "Transcribing chunk 4...\n",
      "Transcribing chunk 5...\n",
      "Transcribing chunk 6...\n",
      "Transcribing chunk 7...\n",
      "Cleaning up temporary files...\n",
      "Transcription complete. Output files saved.\n"
     ]
    },
    {
     "name": "stderr",
     "output_type": "stream",
     "text": [
      "/home/jason/anaconda3/envs/llama/lib/python3.10/site-packages/huggingface_hub/file_download.py:1132: FutureWarning: `resume_download` is deprecated and will be removed in version 1.0.0. Downloads always resume when possible. If you want to force a new download, use `force_download=True`.\n",
      "  warnings.warn(\n"
     ]
    },
    {
     "name": "stdout",
     "output_type": "stream",
     "text": [
      "Index creation complete.\n",
      "Downloading the video...\n",
      "Transcribing the video...\n",
      "Transcribing chunk 1...\n",
      "Transcribing chunk 2...\n",
      "Transcribing chunk 3...\n",
      "Transcribing chunk 4...\n",
      "Transcribing chunk 5...\n",
      "Transcribing chunk 6...\n",
      "Transcribing chunk 7...\n",
      "Transcribing chunk 8...\n",
      "Cleaning up temporary files...\n",
      "Transcription complete. Output files saved.\n"
     ]
    },
    {
     "name": "stderr",
     "output_type": "stream",
     "text": [
      "/home/jason/anaconda3/envs/llama/lib/python3.10/site-packages/huggingface_hub/file_download.py:1132: FutureWarning: `resume_download` is deprecated and will be removed in version 1.0.0. Downloads always resume when possible. If you want to force a new download, use `force_download=True`.\n",
      "  warnings.warn(\n"
     ]
    },
    {
     "name": "stdout",
     "output_type": "stream",
     "text": [
      "Index creation complete.\n",
      "Downloading the video...\n",
      "Transcribing the video...\n",
      "Transcribing chunk 1...\n",
      "Transcribing chunk 2...\n",
      "Transcribing chunk 3...\n",
      "Transcribing chunk 4...\n",
      "Transcribing chunk 5...\n",
      "Transcribing chunk 6...\n",
      "Transcribing chunk 7...\n",
      "Transcribing chunk 8...\n",
      "Transcribing chunk 9...\n",
      "Transcribing chunk 10...\n",
      "Cleaning up temporary files...\n",
      "Transcription complete. Output files saved.\n"
     ]
    },
    {
     "name": "stderr",
     "output_type": "stream",
     "text": [
      "/home/jason/anaconda3/envs/llama/lib/python3.10/site-packages/huggingface_hub/file_download.py:1132: FutureWarning: `resume_download` is deprecated and will be removed in version 1.0.0. Downloads always resume when possible. If you want to force a new download, use `force_download=True`.\n",
      "  warnings.warn(\n"
     ]
    },
    {
     "name": "stdout",
     "output_type": "stream",
     "text": [
      "Index creation complete.\n",
      "Downloading the video...\n",
      "Transcribing the video...\n",
      "Transcribing chunk 1...\n",
      "Transcribing chunk 2...\n",
      "Transcribing chunk 3...\n",
      "Transcribing chunk 4...\n",
      "Transcribing chunk 5...\n",
      "Transcribing chunk 6...\n",
      "Transcribing chunk 7...\n",
      "Transcribing chunk 8...\n",
      "Transcribing chunk 9...\n",
      "Transcribing chunk 10...\n",
      "Transcribing chunk 11...\n",
      "Transcribing chunk 12...\n",
      "Transcribing chunk 13...\n",
      "Transcribing chunk 14...\n",
      "Transcribing chunk 15...\n",
      "Transcribing chunk 16...\n",
      "Transcribing chunk 17...\n",
      "Transcribing chunk 18...\n",
      "Transcribing chunk 19...\n",
      "Transcribing chunk 20...\n",
      "Transcribing chunk 21...\n",
      "Transcribing chunk 22...\n",
      "Transcribing chunk 23...\n",
      "Transcribing chunk 24...\n",
      "Transcribing chunk 25...\n",
      "Transcribing chunk 26...\n",
      "Cleaning up temporary files...\n",
      "Transcription complete. Output files saved.\n"
     ]
    },
    {
     "name": "stderr",
     "output_type": "stream",
     "text": [
      "/home/jason/anaconda3/envs/llama/lib/python3.10/site-packages/huggingface_hub/file_download.py:1132: FutureWarning: `resume_download` is deprecated and will be removed in version 1.0.0. Downloads always resume when possible. If you want to force a new download, use `force_download=True`.\n",
      "  warnings.warn(\n"
     ]
    },
    {
     "name": "stdout",
     "output_type": "stream",
     "text": [
      "Index creation complete.\n",
      "Downloading the video...\n",
      "Transcribing the video...\n",
      "Transcribing chunk 1...\n",
      "Transcribing chunk 2...\n",
      "Transcribing chunk 3...\n",
      "Transcribing chunk 4...\n",
      "Transcribing chunk 5...\n",
      "Transcribing chunk 6...\n",
      "Transcribing chunk 7...\n",
      "Transcribing chunk 8...\n",
      "Transcribing chunk 9...\n",
      "Transcribing chunk 10...\n",
      "Transcribing chunk 11...\n",
      "Transcribing chunk 12...\n",
      "Cleaning up temporary files...\n",
      "Transcription complete. Output files saved.\n"
     ]
    },
    {
     "name": "stderr",
     "output_type": "stream",
     "text": [
      "/home/jason/anaconda3/envs/llama/lib/python3.10/site-packages/huggingface_hub/file_download.py:1132: FutureWarning: `resume_download` is deprecated and will be removed in version 1.0.0. Downloads always resume when possible. If you want to force a new download, use `force_download=True`.\n",
      "  warnings.warn(\n"
     ]
    },
    {
     "name": "stdout",
     "output_type": "stream",
     "text": [
      "Index creation complete.\n",
      "Downloading the video...\n",
      "Transcribing the video...\n",
      "Transcribing chunk 1...\n",
      "Transcribing chunk 2...\n",
      "Transcribing chunk 3...\n",
      "Transcribing chunk 4...\n",
      "Transcribing chunk 5...\n",
      "Transcribing chunk 6...\n",
      "Transcribing chunk 7...\n",
      "Transcribing chunk 8...\n",
      "Transcribing chunk 9...\n",
      "Transcribing chunk 10...\n",
      "Transcribing chunk 11...\n",
      "Transcribing chunk 12...\n",
      "Transcribing chunk 13...\n",
      "Transcribing chunk 14...\n",
      "Transcribing chunk 15...\n",
      "Transcribing chunk 16...\n",
      "Cleaning up temporary files...\n",
      "Transcription complete. Output files saved.\n"
     ]
    },
    {
     "name": "stderr",
     "output_type": "stream",
     "text": [
      "/home/jason/anaconda3/envs/llama/lib/python3.10/site-packages/huggingface_hub/file_download.py:1132: FutureWarning: `resume_download` is deprecated and will be removed in version 1.0.0. Downloads always resume when possible. If you want to force a new download, use `force_download=True`.\n",
      "  warnings.warn(\n"
     ]
    },
    {
     "name": "stdout",
     "output_type": "stream",
     "text": [
      "Index creation complete.\n",
      "Downloading the video...\n",
      "Transcribing the video...\n",
      "Transcribing chunk 1...\n",
      "Transcribing chunk 2...\n",
      "Transcribing chunk 3...\n",
      "Transcribing chunk 4...\n",
      "Transcribing chunk 5...\n",
      "Transcribing chunk 6...\n",
      "Transcribing chunk 7...\n",
      "Transcribing chunk 8...\n",
      "Transcribing chunk 9...\n",
      "Transcribing chunk 10...\n",
      "Transcribing chunk 11...\n",
      "Transcribing chunk 12...\n",
      "Transcribing chunk 13...\n",
      "Transcribing chunk 14...\n",
      "Transcribing chunk 15...\n",
      "Cleaning up temporary files...\n",
      "Transcription complete. Output files saved.\n"
     ]
    },
    {
     "name": "stderr",
     "output_type": "stream",
     "text": [
      "/home/jason/anaconda3/envs/llama/lib/python3.10/site-packages/huggingface_hub/file_download.py:1132: FutureWarning: `resume_download` is deprecated and will be removed in version 1.0.0. Downloads always resume when possible. If you want to force a new download, use `force_download=True`.\n",
      "  warnings.warn(\n"
     ]
    },
    {
     "name": "stdout",
     "output_type": "stream",
     "text": [
      "Index creation complete.\n",
      "Downloading the video...\n",
      "Transcribing the video...\n",
      "Transcribing chunk 1...\n",
      "Transcribing chunk 2...\n",
      "Transcribing chunk 3...\n",
      "Transcribing chunk 4...\n",
      "Transcribing chunk 5...\n",
      "Transcribing chunk 6...\n",
      "Cleaning up temporary files...\n",
      "Transcription complete. Output files saved.\n"
     ]
    },
    {
     "name": "stderr",
     "output_type": "stream",
     "text": [
      "/home/jason/anaconda3/envs/llama/lib/python3.10/site-packages/huggingface_hub/file_download.py:1132: FutureWarning: `resume_download` is deprecated and will be removed in version 1.0.0. Downloads always resume when possible. If you want to force a new download, use `force_download=True`.\n",
      "  warnings.warn(\n"
     ]
    },
    {
     "name": "stdout",
     "output_type": "stream",
     "text": [
      "Index creation complete.\n",
      "Downloading the video...\n",
      "Transcribing the video...\n",
      "Transcribing chunk 1...\n",
      "Transcribing chunk 2...\n",
      "Transcribing chunk 3...\n",
      "Transcribing chunk 4...\n",
      "Transcribing chunk 5...\n",
      "Transcribing chunk 6...\n",
      "Transcribing chunk 7...\n",
      "Transcribing chunk 8...\n",
      "Transcribing chunk 9...\n",
      "Transcribing chunk 10...\n",
      "Transcribing chunk 11...\n",
      "Transcribing chunk 12...\n",
      "Transcribing chunk 13...\n",
      "Transcribing chunk 14...\n",
      "Transcribing chunk 15...\n",
      "Cleaning up temporary files...\n",
      "Transcription complete. Output files saved.\n"
     ]
    },
    {
     "name": "stderr",
     "output_type": "stream",
     "text": [
      "/home/jason/anaconda3/envs/llama/lib/python3.10/site-packages/huggingface_hub/file_download.py:1132: FutureWarning: `resume_download` is deprecated and will be removed in version 1.0.0. Downloads always resume when possible. If you want to force a new download, use `force_download=True`.\n",
      "  warnings.warn(\n"
     ]
    },
    {
     "name": "stdout",
     "output_type": "stream",
     "text": [
      "Index creation complete.\n",
      "Downloading the video...\n",
      "Transcribing the video...\n",
      "Transcribing chunk 1...\n",
      "Transcribing chunk 2...\n",
      "Transcribing chunk 3...\n",
      "Transcribing chunk 4...\n",
      "Transcribing chunk 5...\n",
      "Transcribing chunk 6...\n",
      "Transcribing chunk 7...\n",
      "Transcribing chunk 8...\n",
      "Transcribing chunk 9...\n",
      "Cleaning up temporary files...\n",
      "Transcription complete. Output files saved.\n"
     ]
    },
    {
     "name": "stderr",
     "output_type": "stream",
     "text": [
      "/home/jason/anaconda3/envs/llama/lib/python3.10/site-packages/huggingface_hub/file_download.py:1132: FutureWarning: `resume_download` is deprecated and will be removed in version 1.0.0. Downloads always resume when possible. If you want to force a new download, use `force_download=True`.\n",
      "  warnings.warn(\n"
     ]
    },
    {
     "name": "stdout",
     "output_type": "stream",
     "text": [
      "Index creation complete.\n",
      "Downloading the video...\n",
      "Transcribing the video...\n",
      "Transcribing chunk 1...\n",
      "Transcribing chunk 2...\n",
      "Transcribing chunk 3...\n",
      "Transcribing chunk 4...\n",
      "Transcribing chunk 5...\n",
      "Transcribing chunk 6...\n",
      "Transcribing chunk 7...\n",
      "Cleaning up temporary files...\n",
      "Transcription complete. Output files saved.\n"
     ]
    },
    {
     "name": "stderr",
     "output_type": "stream",
     "text": [
      "/home/jason/anaconda3/envs/llama/lib/python3.10/site-packages/huggingface_hub/file_download.py:1132: FutureWarning: `resume_download` is deprecated and will be removed in version 1.0.0. Downloads always resume when possible. If you want to force a new download, use `force_download=True`.\n",
      "  warnings.warn(\n"
     ]
    },
    {
     "name": "stdout",
     "output_type": "stream",
     "text": [
      "Index creation complete.\n",
      "Downloading the video...\n",
      "Transcribing the video...\n",
      "Transcribing chunk 1...\n",
      "Transcribing chunk 2...\n",
      "Transcribing chunk 3...\n",
      "Transcribing chunk 4...\n",
      "Transcribing chunk 5...\n",
      "Cleaning up temporary files...\n",
      "Transcription complete. Output files saved.\n"
     ]
    },
    {
     "name": "stderr",
     "output_type": "stream",
     "text": [
      "/home/jason/anaconda3/envs/llama/lib/python3.10/site-packages/huggingface_hub/file_download.py:1132: FutureWarning: `resume_download` is deprecated and will be removed in version 1.0.0. Downloads always resume when possible. If you want to force a new download, use `force_download=True`.\n",
      "  warnings.warn(\n"
     ]
    },
    {
     "name": "stdout",
     "output_type": "stream",
     "text": [
      "Index creation complete.\n",
      "Downloading the video...\n",
      "Transcribing the video...\n",
      "Transcribing chunk 1...\n",
      "Transcribing chunk 2...\n",
      "Transcribing chunk 3...\n",
      "Transcribing chunk 4...\n",
      "Transcribing chunk 5...\n",
      "Transcribing chunk 6...\n",
      "Transcribing chunk 7...\n",
      "Transcribing chunk 8...\n",
      "Transcribing chunk 9...\n",
      "Cleaning up temporary files...\n",
      "Transcription complete. Output files saved.\n"
     ]
    },
    {
     "name": "stderr",
     "output_type": "stream",
     "text": [
      "/home/jason/anaconda3/envs/llama/lib/python3.10/site-packages/huggingface_hub/file_download.py:1132: FutureWarning: `resume_download` is deprecated and will be removed in version 1.0.0. Downloads always resume when possible. If you want to force a new download, use `force_download=True`.\n",
      "  warnings.warn(\n"
     ]
    },
    {
     "name": "stdout",
     "output_type": "stream",
     "text": [
      "Index creation complete.\n",
      "Downloading the video...\n",
      "Transcribing the video...\n",
      "Transcribing chunk 1...\n",
      "Transcribing chunk 2...\n",
      "Transcribing chunk 3...\n",
      "Transcribing chunk 4...\n",
      "Transcribing chunk 5...\n",
      "Transcribing chunk 6...\n",
      "Cleaning up temporary files...\n",
      "Transcription complete. Output files saved.\n"
     ]
    },
    {
     "name": "stderr",
     "output_type": "stream",
     "text": [
      "/home/jason/anaconda3/envs/llama/lib/python3.10/site-packages/huggingface_hub/file_download.py:1132: FutureWarning: `resume_download` is deprecated and will be removed in version 1.0.0. Downloads always resume when possible. If you want to force a new download, use `force_download=True`.\n",
      "  warnings.warn(\n"
     ]
    },
    {
     "name": "stdout",
     "output_type": "stream",
     "text": [
      "Index creation complete.\n",
      "Downloading the video...\n",
      "Transcribing the video...\n",
      "Transcribing chunk 1...\n",
      "Transcribing chunk 2...\n",
      "Transcribing chunk 3...\n",
      "Transcribing chunk 4...\n",
      "Transcribing chunk 5...\n",
      "Transcribing chunk 6...\n",
      "Transcribing chunk 7...\n",
      "Transcribing chunk 8...\n",
      "Transcribing chunk 9...\n",
      "Transcribing chunk 10...\n",
      "Transcribing chunk 11...\n",
      "Transcribing chunk 12...\n",
      "Transcribing chunk 13...\n",
      "Transcribing chunk 14...\n",
      "Transcribing chunk 15...\n",
      "Transcribing chunk 16...\n",
      "Transcribing chunk 17...\n",
      "Transcribing chunk 18...\n",
      "Transcribing chunk 19...\n",
      "Transcribing chunk 20...\n",
      "Transcribing chunk 21...\n",
      "Transcribing chunk 22...\n",
      "Transcribing chunk 23...\n",
      "Transcribing chunk 24...\n",
      "Transcribing chunk 25...\n",
      "Transcribing chunk 26...\n",
      "Cleaning up temporary files...\n",
      "Transcription complete. Output files saved.\n"
     ]
    },
    {
     "name": "stderr",
     "output_type": "stream",
     "text": [
      "/home/jason/anaconda3/envs/llama/lib/python3.10/site-packages/huggingface_hub/file_download.py:1132: FutureWarning: `resume_download` is deprecated and will be removed in version 1.0.0. Downloads always resume when possible. If you want to force a new download, use `force_download=True`.\n",
      "  warnings.warn(\n"
     ]
    },
    {
     "name": "stdout",
     "output_type": "stream",
     "text": [
      "Index creation complete.\n",
      "Downloading the video...\n",
      "Transcribing the video...\n",
      "Transcribing chunk 1...\n",
      "Transcribing chunk 2...\n",
      "Transcribing chunk 3...\n",
      "Transcribing chunk 4...\n",
      "Transcribing chunk 5...\n",
      "Transcribing chunk 6...\n",
      "Transcribing chunk 7...\n",
      "Transcribing chunk 8...\n",
      "Transcribing chunk 9...\n",
      "Transcribing chunk 10...\n",
      "Transcribing chunk 11...\n",
      "Transcribing chunk 12...\n",
      "Transcribing chunk 13...\n",
      "Transcribing chunk 14...\n",
      "Transcribing chunk 15...\n",
      "Cleaning up temporary files...\n",
      "Transcription complete. Output files saved.\n"
     ]
    },
    {
     "name": "stderr",
     "output_type": "stream",
     "text": [
      "/home/jason/anaconda3/envs/llama/lib/python3.10/site-packages/huggingface_hub/file_download.py:1132: FutureWarning: `resume_download` is deprecated and will be removed in version 1.0.0. Downloads always resume when possible. If you want to force a new download, use `force_download=True`.\n",
      "  warnings.warn(\n"
     ]
    },
    {
     "name": "stdout",
     "output_type": "stream",
     "text": [
      "Index creation complete.\n",
      "Downloading the video...\n",
      "Transcribing the video...\n",
      "Transcribing chunk 1...\n",
      "Transcribing chunk 2...\n",
      "Transcribing chunk 3...\n",
      "Transcribing chunk 4...\n",
      "Transcribing chunk 5...\n",
      "Transcribing chunk 6...\n",
      "Transcribing chunk 7...\n",
      "Transcribing chunk 8...\n",
      "Transcribing chunk 9...\n",
      "Transcribing chunk 10...\n",
      "Transcribing chunk 11...\n",
      "Transcribing chunk 12...\n",
      "Transcribing chunk 13...\n",
      "Transcribing chunk 14...\n",
      "Transcribing chunk 15...\n",
      "Transcribing chunk 16...\n",
      "Transcribing chunk 17...\n",
      "Transcribing chunk 18...\n",
      "Transcribing chunk 19...\n",
      "Transcribing chunk 20...\n",
      "Transcribing chunk 21...\n",
      "Transcribing chunk 22...\n",
      "Cleaning up temporary files...\n",
      "Transcription complete. Output files saved.\n"
     ]
    },
    {
     "name": "stderr",
     "output_type": "stream",
     "text": [
      "/home/jason/anaconda3/envs/llama/lib/python3.10/site-packages/huggingface_hub/file_download.py:1132: FutureWarning: `resume_download` is deprecated and will be removed in version 1.0.0. Downloads always resume when possible. If you want to force a new download, use `force_download=True`.\n",
      "  warnings.warn(\n"
     ]
    },
    {
     "name": "stdout",
     "output_type": "stream",
     "text": [
      "Index creation complete.\n",
      "Downloading the video...\n",
      "Transcribing the video...\n",
      "Transcribing chunk 1...\n",
      "Transcribing chunk 2...\n",
      "Transcribing chunk 3...\n",
      "Transcribing chunk 4...\n",
      "Transcribing chunk 5...\n",
      "Transcribing chunk 6...\n",
      "Transcribing chunk 7...\n",
      "Transcribing chunk 8...\n",
      "Transcribing chunk 9...\n",
      "Transcribing chunk 10...\n",
      "Transcribing chunk 11...\n",
      "Transcribing chunk 12...\n",
      "Transcribing chunk 13...\n",
      "Transcribing chunk 14...\n",
      "Transcribing chunk 15...\n",
      "Transcribing chunk 16...\n",
      "Transcribing chunk 17...\n",
      "Transcribing chunk 18...\n",
      "Cleaning up temporary files...\n",
      "Transcription complete. Output files saved.\n"
     ]
    },
    {
     "name": "stderr",
     "output_type": "stream",
     "text": [
      "/home/jason/anaconda3/envs/llama/lib/python3.10/site-packages/huggingface_hub/file_download.py:1132: FutureWarning: `resume_download` is deprecated and will be removed in version 1.0.0. Downloads always resume when possible. If you want to force a new download, use `force_download=True`.\n",
      "  warnings.warn(\n"
     ]
    },
    {
     "name": "stdout",
     "output_type": "stream",
     "text": [
      "Index creation complete.\n",
      "Downloading the video...\n",
      "Transcribing the video...\n",
      "Transcribing chunk 1...\n",
      "Transcribing chunk 2...\n",
      "Transcribing chunk 3...\n",
      "Transcribing chunk 4...\n",
      "Transcribing chunk 5...\n",
      "Transcribing chunk 6...\n",
      "Transcribing chunk 7...\n",
      "Transcribing chunk 8...\n",
      "Transcribing chunk 9...\n",
      "Transcribing chunk 10...\n",
      "Transcribing chunk 11...\n",
      "Cleaning up temporary files...\n",
      "Transcription complete. Output files saved.\n"
     ]
    },
    {
     "name": "stderr",
     "output_type": "stream",
     "text": [
      "/home/jason/anaconda3/envs/llama/lib/python3.10/site-packages/huggingface_hub/file_download.py:1132: FutureWarning: `resume_download` is deprecated and will be removed in version 1.0.0. Downloads always resume when possible. If you want to force a new download, use `force_download=True`.\n",
      "  warnings.warn(\n"
     ]
    },
    {
     "name": "stdout",
     "output_type": "stream",
     "text": [
      "Index creation complete.\n",
      "Downloading the video...\n",
      "Transcribing the video...\n",
      "Transcribing chunk 1...\n",
      "Transcribing chunk 2...\n",
      "Transcribing chunk 3...\n",
      "Transcribing chunk 4...\n",
      "Transcribing chunk 5...\n",
      "Transcribing chunk 6...\n",
      "Transcribing chunk 7...\n",
      "Transcribing chunk 8...\n",
      "Transcribing chunk 9...\n",
      "Transcribing chunk 10...\n",
      "Transcribing chunk 11...\n",
      "Transcribing chunk 12...\n",
      "Transcribing chunk 13...\n",
      "Transcribing chunk 14...\n",
      "Transcribing chunk 15...\n",
      "Cleaning up temporary files...\n",
      "Transcription complete. Output files saved.\n"
     ]
    },
    {
     "name": "stderr",
     "output_type": "stream",
     "text": [
      "/home/jason/anaconda3/envs/llama/lib/python3.10/site-packages/huggingface_hub/file_download.py:1132: FutureWarning: `resume_download` is deprecated and will be removed in version 1.0.0. Downloads always resume when possible. If you want to force a new download, use `force_download=True`.\n",
      "  warnings.warn(\n"
     ]
    },
    {
     "name": "stdout",
     "output_type": "stream",
     "text": [
      "Index creation complete.\n",
      "Downloading the video...\n",
      "Transcribing the video...\n",
      "Transcribing chunk 1...\n",
      "Transcribing chunk 2...\n",
      "Transcribing chunk 3...\n",
      "Transcribing chunk 4...\n",
      "Transcribing chunk 5...\n",
      "Transcribing chunk 6...\n",
      "Transcribing chunk 7...\n",
      "Transcribing chunk 8...\n",
      "Transcribing chunk 9...\n",
      "Transcribing chunk 10...\n",
      "Transcribing chunk 11...\n",
      "Transcribing chunk 12...\n",
      "Transcribing chunk 13...\n",
      "Transcribing chunk 14...\n",
      "Transcribing chunk 15...\n",
      "Transcribing chunk 16...\n",
      "Cleaning up temporary files...\n",
      "Transcription complete. Output files saved.\n"
     ]
    },
    {
     "name": "stderr",
     "output_type": "stream",
     "text": [
      "/home/jason/anaconda3/envs/llama/lib/python3.10/site-packages/huggingface_hub/file_download.py:1132: FutureWarning: `resume_download` is deprecated and will be removed in version 1.0.0. Downloads always resume when possible. If you want to force a new download, use `force_download=True`.\n",
      "  warnings.warn(\n"
     ]
    },
    {
     "name": "stdout",
     "output_type": "stream",
     "text": [
      "Index creation complete.\n",
      "Downloading the video...\n",
      "Transcribing the video...\n",
      "Transcribing chunk 1...\n",
      "Transcribing chunk 2...\n",
      "Transcribing chunk 3...\n",
      "Transcribing chunk 4...\n",
      "Transcribing chunk 5...\n",
      "Transcribing chunk 6...\n",
      "Transcribing chunk 7...\n",
      "Transcribing chunk 8...\n",
      "Transcribing chunk 9...\n",
      "Transcribing chunk 10...\n",
      "Transcribing chunk 11...\n",
      "Transcribing chunk 12...\n",
      "Transcribing chunk 13...\n",
      "Transcribing chunk 14...\n",
      "Cleaning up temporary files...\n",
      "Transcription complete. Output files saved.\n"
     ]
    },
    {
     "name": "stderr",
     "output_type": "stream",
     "text": [
      "/home/jason/anaconda3/envs/llama/lib/python3.10/site-packages/huggingface_hub/file_download.py:1132: FutureWarning: `resume_download` is deprecated and will be removed in version 1.0.0. Downloads always resume when possible. If you want to force a new download, use `force_download=True`.\n",
      "  warnings.warn(\n"
     ]
    },
    {
     "name": "stdout",
     "output_type": "stream",
     "text": [
      "Index creation complete.\n",
      "Downloading the video...\n",
      "Transcribing the video...\n",
      "Transcribing chunk 1...\n",
      "Transcribing chunk 2...\n",
      "Transcribing chunk 3...\n",
      "Transcribing chunk 4...\n",
      "Transcribing chunk 5...\n",
      "Transcribing chunk 6...\n",
      "Transcribing chunk 7...\n",
      "Transcribing chunk 8...\n",
      "Transcribing chunk 9...\n",
      "Transcribing chunk 10...\n",
      "Transcribing chunk 11...\n",
      "Transcribing chunk 12...\n",
      "Transcribing chunk 13...\n",
      "Transcribing chunk 14...\n",
      "Transcribing chunk 15...\n",
      "Cleaning up temporary files...\n",
      "Transcription complete. Output files saved.\n"
     ]
    },
    {
     "name": "stderr",
     "output_type": "stream",
     "text": [
      "/home/jason/anaconda3/envs/llama/lib/python3.10/site-packages/huggingface_hub/file_download.py:1132: FutureWarning: `resume_download` is deprecated and will be removed in version 1.0.0. Downloads always resume when possible. If you want to force a new download, use `force_download=True`.\n",
      "  warnings.warn(\n"
     ]
    },
    {
     "name": "stdout",
     "output_type": "stream",
     "text": [
      "Index creation complete.\n",
      "Downloading the video...\n",
      "Transcribing the video...\n",
      "Transcribing chunk 1...\n",
      "Transcribing chunk 2...\n",
      "Transcribing chunk 3...\n",
      "Transcribing chunk 4...\n",
      "Transcribing chunk 5...\n",
      "Transcribing chunk 6...\n",
      "Transcribing chunk 7...\n",
      "Cleaning up temporary files...\n",
      "Transcription complete. Output files saved.\n"
     ]
    },
    {
     "name": "stderr",
     "output_type": "stream",
     "text": [
      "/home/jason/anaconda3/envs/llama/lib/python3.10/site-packages/huggingface_hub/file_download.py:1132: FutureWarning: `resume_download` is deprecated and will be removed in version 1.0.0. Downloads always resume when possible. If you want to force a new download, use `force_download=True`.\n",
      "  warnings.warn(\n"
     ]
    },
    {
     "name": "stdout",
     "output_type": "stream",
     "text": [
      "Index creation complete.\n",
      "Downloading the video...\n",
      "Transcribing the video...\n",
      "Transcribing chunk 1...\n",
      "Transcribing chunk 2...\n",
      "Transcribing chunk 3...\n",
      "Transcribing chunk 4...\n",
      "Transcribing chunk 5...\n",
      "Transcribing chunk 6...\n",
      "Transcribing chunk 7...\n",
      "Transcribing chunk 8...\n",
      "Transcribing chunk 9...\n",
      "Transcribing chunk 10...\n",
      "Transcribing chunk 11...\n",
      "Transcribing chunk 12...\n",
      "Transcribing chunk 13...\n",
      "Transcribing chunk 14...\n",
      "Transcribing chunk 15...\n",
      "Transcribing chunk 16...\n",
      "Transcribing chunk 17...\n",
      "Cleaning up temporary files...\n",
      "Transcription complete. Output files saved.\n"
     ]
    },
    {
     "name": "stderr",
     "output_type": "stream",
     "text": [
      "/home/jason/anaconda3/envs/llama/lib/python3.10/site-packages/huggingface_hub/file_download.py:1132: FutureWarning: `resume_download` is deprecated and will be removed in version 1.0.0. Downloads always resume when possible. If you want to force a new download, use `force_download=True`.\n",
      "  warnings.warn(\n"
     ]
    },
    {
     "name": "stdout",
     "output_type": "stream",
     "text": [
      "Index creation complete.\n",
      "Downloading the video...\n",
      "Transcribing the video...\n",
      "Transcribing chunk 1...\n",
      "Transcribing chunk 2...\n",
      "Transcribing chunk 3...\n",
      "Transcribing chunk 4...\n",
      "Transcribing chunk 5...\n",
      "Transcribing chunk 6...\n",
      "Transcribing chunk 7...\n",
      "Transcribing chunk 8...\n",
      "Transcribing chunk 9...\n",
      "Transcribing chunk 10...\n",
      "Transcribing chunk 11...\n",
      "Transcribing chunk 12...\n",
      "Cleaning up temporary files...\n",
      "Transcription complete. Output files saved.\n"
     ]
    },
    {
     "name": "stderr",
     "output_type": "stream",
     "text": [
      "/home/jason/anaconda3/envs/llama/lib/python3.10/site-packages/huggingface_hub/file_download.py:1132: FutureWarning: `resume_download` is deprecated and will be removed in version 1.0.0. Downloads always resume when possible. If you want to force a new download, use `force_download=True`.\n",
      "  warnings.warn(\n"
     ]
    },
    {
     "name": "stdout",
     "output_type": "stream",
     "text": [
      "Index creation complete.\n",
      "Downloading the video...\n",
      "Transcribing the video...\n",
      "Transcribing chunk 1...\n",
      "Transcribing chunk 2...\n",
      "Transcribing chunk 3...\n",
      "Transcribing chunk 4...\n",
      "Transcribing chunk 5...\n",
      "Transcribing chunk 6...\n",
      "Transcribing chunk 7...\n",
      "Transcribing chunk 8...\n",
      "Transcribing chunk 9...\n",
      "Transcribing chunk 10...\n",
      "Transcribing chunk 11...\n",
      "Transcribing chunk 12...\n",
      "Transcribing chunk 13...\n",
      "Transcribing chunk 14...\n",
      "Transcribing chunk 15...\n",
      "Transcribing chunk 16...\n",
      "Transcribing chunk 17...\n",
      "Transcribing chunk 18...\n",
      "Transcribing chunk 19...\n",
      "Transcribing chunk 20...\n",
      "Cleaning up temporary files...\n",
      "Transcription complete. Output files saved.\n"
     ]
    },
    {
     "name": "stderr",
     "output_type": "stream",
     "text": [
      "/home/jason/anaconda3/envs/llama/lib/python3.10/site-packages/huggingface_hub/file_download.py:1132: FutureWarning: `resume_download` is deprecated and will be removed in version 1.0.0. Downloads always resume when possible. If you want to force a new download, use `force_download=True`.\n",
      "  warnings.warn(\n"
     ]
    },
    {
     "name": "stdout",
     "output_type": "stream",
     "text": [
      "Index creation complete.\n",
      "Downloading the video...\n",
      "Transcribing the video...\n",
      "Transcribing chunk 1...\n",
      "Transcribing chunk 2...\n",
      "Transcribing chunk 3...\n",
      "Transcribing chunk 4...\n",
      "Transcribing chunk 5...\n",
      "Transcribing chunk 6...\n",
      "Cleaning up temporary files...\n",
      "Transcription complete. Output files saved.\n"
     ]
    },
    {
     "name": "stderr",
     "output_type": "stream",
     "text": [
      "/home/jason/anaconda3/envs/llama/lib/python3.10/site-packages/huggingface_hub/file_download.py:1132: FutureWarning: `resume_download` is deprecated and will be removed in version 1.0.0. Downloads always resume when possible. If you want to force a new download, use `force_download=True`.\n",
      "  warnings.warn(\n"
     ]
    },
    {
     "name": "stdout",
     "output_type": "stream",
     "text": [
      "Index creation complete.\n",
      "Downloading the video...\n",
      "Transcribing the video...\n",
      "Transcribing chunk 1...\n",
      "Transcribing chunk 2...\n",
      "Transcribing chunk 3...\n",
      "Transcribing chunk 4...\n",
      "Transcribing chunk 5...\n",
      "Transcribing chunk 6...\n",
      "Transcribing chunk 7...\n",
      "Transcribing chunk 8...\n",
      "Transcribing chunk 9...\n",
      "Transcribing chunk 10...\n",
      "Transcribing chunk 11...\n",
      "Transcribing chunk 12...\n",
      "Transcribing chunk 13...\n",
      "Cleaning up temporary files...\n",
      "Transcription complete. Output files saved.\n"
     ]
    },
    {
     "name": "stderr",
     "output_type": "stream",
     "text": [
      "/home/jason/anaconda3/envs/llama/lib/python3.10/site-packages/huggingface_hub/file_download.py:1132: FutureWarning: `resume_download` is deprecated and will be removed in version 1.0.0. Downloads always resume when possible. If you want to force a new download, use `force_download=True`.\n",
      "  warnings.warn(\n"
     ]
    },
    {
     "name": "stdout",
     "output_type": "stream",
     "text": [
      "Index creation complete.\n",
      "Downloading the video...\n",
      "Transcribing the video...\n",
      "Transcribing chunk 1...\n",
      "Transcribing chunk 2...\n",
      "Transcribing chunk 3...\n",
      "Transcribing chunk 4...\n",
      "Transcribing chunk 5...\n",
      "Transcribing chunk 6...\n",
      "Transcribing chunk 7...\n",
      "Transcribing chunk 8...\n",
      "Transcribing chunk 9...\n",
      "Transcribing chunk 10...\n",
      "Transcribing chunk 11...\n",
      "Transcribing chunk 12...\n",
      "Transcribing chunk 13...\n",
      "Transcribing chunk 14...\n",
      "Transcribing chunk 15...\n",
      "Transcribing chunk 16...\n",
      "Cleaning up temporary files...\n",
      "Transcription complete. Output files saved.\n"
     ]
    },
    {
     "name": "stderr",
     "output_type": "stream",
     "text": [
      "/home/jason/anaconda3/envs/llama/lib/python3.10/site-packages/huggingface_hub/file_download.py:1132: FutureWarning: `resume_download` is deprecated and will be removed in version 1.0.0. Downloads always resume when possible. If you want to force a new download, use `force_download=True`.\n",
      "  warnings.warn(\n"
     ]
    },
    {
     "name": "stdout",
     "output_type": "stream",
     "text": [
      "Index creation complete.\n",
      "Downloading the video...\n",
      "Transcribing the video...\n",
      "Transcribing chunk 1...\n",
      "Transcribing chunk 2...\n",
      "Transcribing chunk 3...\n",
      "Transcribing chunk 4...\n",
      "Transcribing chunk 5...\n",
      "Transcribing chunk 6...\n",
      "Transcribing chunk 7...\n",
      "Transcribing chunk 8...\n",
      "Transcribing chunk 9...\n",
      "Transcribing chunk 10...\n",
      "Transcribing chunk 11...\n",
      "Transcribing chunk 12...\n",
      "Transcribing chunk 13...\n",
      "Transcribing chunk 14...\n",
      "Transcribing chunk 15...\n",
      "Transcribing chunk 16...\n",
      "Transcribing chunk 17...\n",
      "Transcribing chunk 18...\n",
      "Cleaning up temporary files...\n",
      "Transcription complete. Output files saved.\n"
     ]
    },
    {
     "name": "stderr",
     "output_type": "stream",
     "text": [
      "/home/jason/anaconda3/envs/llama/lib/python3.10/site-packages/huggingface_hub/file_download.py:1132: FutureWarning: `resume_download` is deprecated and will be removed in version 1.0.0. Downloads always resume when possible. If you want to force a new download, use `force_download=True`.\n",
      "  warnings.warn(\n"
     ]
    },
    {
     "name": "stdout",
     "output_type": "stream",
     "text": [
      "Index creation complete.\n",
      "Downloading the video...\n",
      "Transcribing the video...\n",
      "Transcribing chunk 1...\n",
      "Transcribing chunk 2...\n",
      "Transcribing chunk 3...\n",
      "Transcribing chunk 4...\n",
      "Transcribing chunk 5...\n",
      "Transcribing chunk 6...\n",
      "Transcribing chunk 7...\n",
      "Transcribing chunk 8...\n",
      "Transcribing chunk 9...\n",
      "Transcribing chunk 10...\n",
      "Transcribing chunk 11...\n",
      "Transcribing chunk 12...\n",
      "Transcribing chunk 13...\n",
      "Transcribing chunk 14...\n",
      "Transcribing chunk 15...\n",
      "Transcribing chunk 16...\n",
      "Transcribing chunk 17...\n",
      "Transcribing chunk 18...\n",
      "Cleaning up temporary files...\n",
      "Transcription complete. Output files saved.\n"
     ]
    },
    {
     "name": "stderr",
     "output_type": "stream",
     "text": [
      "/home/jason/anaconda3/envs/llama/lib/python3.10/site-packages/huggingface_hub/file_download.py:1132: FutureWarning: `resume_download` is deprecated and will be removed in version 1.0.0. Downloads always resume when possible. If you want to force a new download, use `force_download=True`.\n",
      "  warnings.warn(\n"
     ]
    },
    {
     "name": "stdout",
     "output_type": "stream",
     "text": [
      "Index creation complete.\n"
     ]
    }
   ],
   "source": [
    "from pytube import Playlist\n",
    "\n",
    "# Replace with your playlist URL\n",
    "playlist_url = \"https://youtube.com/playlist?list=PLaXDtXvwY-oDvedS3f4HW0b4KxqpJ_imw&si=etr12Qnx0bhsiri9\"\n",
    "\n",
    "# Create a Playlist object\n",
    "playlist = Playlist(playlist_url)\n",
    "\n",
    "# Print all video URLs\n",
    "for video_url in playlist.video_urls:\n",
    "    URL2Index(video_url, './Transcripts/CS273A', './index')"
   ]
  },
  {
   "cell_type": "markdown",
   "metadata": {},
   "source": []
  },
  {
   "cell_type": "markdown",
   "metadata": {},
   "source": []
  },
  {
   "cell_type": "code",
   "execution_count": null,
   "metadata": {},
   "outputs": [],
   "source": []
  },
  {
   "cell_type": "code",
   "execution_count": null,
   "metadata": {},
   "outputs": [],
   "source": []
  },
  {
   "cell_type": "code",
   "execution_count": null,
   "metadata": {},
   "outputs": [],
   "source": []
  }
 ],
 "metadata": {
  "kernelspec": {
   "display_name": "llama",
   "language": "python",
   "name": "python3"
  },
  "language_info": {
   "codemirror_mode": {
    "name": "ipython",
    "version": 3
   },
   "file_extension": ".py",
   "mimetype": "text/x-python",
   "name": "python",
   "nbconvert_exporter": "python",
   "pygments_lexer": "ipython3",
   "version": "3.10.13"
  }
 },
 "nbformat": 4,
 "nbformat_minor": 2
}
