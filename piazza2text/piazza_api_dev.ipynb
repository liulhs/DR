{
 "cells": [
  {
   "cell_type": "code",
   "execution_count": 4,
   "metadata": {},
   "outputs": [],
   "source": [
    "import requests\n",
    "import json\n",
    "\n",
    "# API endpoint for user login\n",
    "LOGIN_URL = \"https://piazza.e-ta.net/users/login\"\n",
    "# API endpoint template for getting all courses of a user\n",
    "COURSES_URL_TEMPLATE = \"https://piazza.e-ta.net/users/{}/courses/all\"\n",
    "\n",
    "# User credentials\n",
    "email = \"haosongl@usc.edu\"\n",
    "password = 'Lhs2016w@'\n",
    "\n",
    "def login(email, password):\n",
    "    \"\"\"Login to the API and return the access token.\"\"\"\n",
    "    data = {\"email\": email, \"password\": password}\n",
    "    response = requests.post(LOGIN_URL, json=data)\n",
    "    if response.status_code == 200:\n",
    "        # Assuming the API returns a token or a session ID for authenticated requests\n",
    "        # This part may need to be adjusted based on the actual API response\n",
    "        return response.json()\n",
    "    else:\n",
    "        raise Exception(\"Login failed!\")\n",
    "\n",
    "def get_all_course_ids(email):\n",
    "    \"\"\"Get all course IDs for the user.\"\"\"\n",
    "    # Assuming login() function returns a token or session ID in a manner that can be used here\n",
    "    # Adjust the authentication method as per the actual API response structure\n",
    "    auth_token = login(email, password)\n",
    "    courses_url = COURSES_URL_TEMPLATE.format(email)\n",
    "    # Assuming the API uses Bearer token, adjust if it uses a different method\n",
    "    headers = {\"Authorization\": f\"Bearer {auth_token}\"}\n",
    "    response = requests.get(courses_url, headers=headers)\n",
    "    if response.status_code == 200:\n",
    "        return response.json()  # A list of courses\n",
    "    else:\n",
    "        raise Exception(\"Failed to retrieve courses!\")"
   ]
  },
  {
   "cell_type": "code",
   "execution_count": 5,
   "metadata": {},
   "outputs": [],
   "source": [
    "def get_all_posts_json(email, course_id):\n",
    "    \"\"\"Fetch all posts for a specific course and return the JSON response.\"\"\"\n",
    "    auth_token = login(email, password)  # Assuming login() is defined elsewhere\n",
    "    posts_url = f\"https://piazza.e-ta.net/users/{email}/courses/{course_id}/posts/all\"\n",
    "    headers = {\"Authorization\": f\"Bearer {auth_token}\"}\n",
    "    print(headers)\n",
    "    response = requests.get(posts_url, headers=headers)\n",
    "    if response.status_code == 200:\n",
    "        posts = response.json()\n",
    "        # Filter out any None values from the posts list before returning\n",
    "        return [post for post in posts if post is not None]\n",
    "    else:\n",
    "        raise Exception(\"Failed to retrieve posts for the course.\")"
   ]
  },
  {
   "cell_type": "code",
   "execution_count": 6,
   "metadata": {},
   "outputs": [],
   "source": [
    "def generate_text_files_from_posts(json_response):\n",
    "    with open('question.txt', 'w') as question_file, open('announcement.txt', 'w') as announcement_file:\n",
    "        for post in json_response:\n",
    "            if post is None:\n",
    "                continue  # Skip any None entries, just in case\n",
    "            if post['type'] == 'question':\n",
    "                question_content = f\"Question: {post['detail']['content']}\\n\"\n",
    "                answer_content = \"\"\n",
    "                for answer in post.get('answers', []):\n",
    "                    answer_content += f\"Answer: {answer['content']}\\n\"\n",
    "                question_file.write(question_content + answer_content + \"\\n\")\n",
    "            elif post['type'] == 'note':\n",
    "                announcement_content = f\"Announcement: {post['detail']['content']}\\n\"\n",
    "                announcement_file.write(announcement_content + \"\\n\")"
   ]
  },
  {
   "cell_type": "code",
   "execution_count": 6,
   "metadata": {},
   "outputs": [
    {
     "name": "stdout",
     "output_type": "stream",
     "text": [
      "{'Authorization': \"Bearer {'message': 'Login successfully'}\"}\n"
     ]
    }
   ],
   "source": [
    "# Example of how you would use this function:\n",
    "email = \"haosongl@usc.edu\"\n",
    "password = \"Lhs2016w@\"\n",
    "course_id = \"llqyd5tpdcq34o\"\n",
    "try:\n",
    "    json_response = get_all_posts_json(email, course_id)\n",
    "    with open('posts.json', 'w') as f:\n",
    "        json.dump(json_response, f, indent=4)\n",
    "except Exception as e:\n",
    "    print(e)"
   ]
  }
 ],
 "metadata": {
  "kernelspec": {
   "display_name": "base",
   "language": "python",
   "name": "python3"
  },
  "language_info": {
   "codemirror_mode": {
    "name": "ipython",
    "version": 3
   },
   "file_extension": ".py",
   "mimetype": "text/x-python",
   "name": "python",
   "nbconvert_exporter": "python",
   "pygments_lexer": "ipython3",
   "version": "3.12.3"
  }
 },
 "nbformat": 4,
 "nbformat_minor": 2
}
